{
 "cells": [
  {
   "cell_type": "code",
   "execution_count": 1,
   "metadata": {},
   "outputs": [],
   "source": [
    "import guild.ipy as guild\n",
    "import warnings\n",
    "warnings.filterwarnings('ignore')\n",
    "import logging, sys\n",
    "logging.disable(sys.maxsize)\n",
    "# run number\n",
    "counter = 1"
   ]
  },
  {
   "cell_type": "markdown",
   "metadata": {},
   "source": [
    "# Logging with guild.ai (with jupyter)\n",
    "\n",
    "`import guild.ipy`\n",
    "\n",
    "Make jupyter cell into function and call using:\n",
    "\n",
    "`run, return_val = guild.run(...)`\n",
    "\n",
    "`!guild ui\n",
    "!guild tensorboard`\n",
    "\n",
    "or `guild.runs()`to view results"
   ]
  },
  {
   "cell_type": "markdown",
   "metadata": {},
   "source": [
    "# Ridge regression on example of boston data"
   ]
  },
  {
   "cell_type": "code",
   "execution_count": 3,
   "metadata": {},
   "outputs": [],
   "source": [
    "from sklearn.datasets import load_boston\n",
    "from sklearn.model_selection import train_test_split\n",
    "from sklearn.linear_model import Ridge\n",
    "import pandas as pd"
   ]
  },
  {
   "cell_type": "code",
   "execution_count": 4,
   "metadata": {},
   "outputs": [],
   "source": [
    "# Load data\n",
    "boston = load_boston()\n",
    "X = pd.DataFrame(boston.data, columns=boston.feature_names)\n",
    "y = boston.target\n",
    "X_train, X_test, y_train, y_test = train_test_split(X, y, test_size=0.2)"
   ]
  },
  {
   "cell_type": "code",
   "execution_count": 5,
   "metadata": {},
   "outputs": [],
   "source": [
    "def ridgeRegBoston():\n",
    "    # Train model, get predictions\n",
    "    reg = Ridge()\n",
    "    reg.fit(X, y)\n",
    "    #y_pred = reg.predict(X_test)\n",
    "    print(\"score: %f\" % reg.score(X_test, y_test))"
   ]
  },
  {
   "cell_type": "markdown",
   "metadata": {},
   "source": [
    "# with guild.ai"
   ]
  },
  {
   "cell_type": "code",
   "execution_count": 6,
   "metadata": {
    "scrolled": true
   },
   "outputs": [
    {
     "name": "stdout",
     "output_type": "stream",
     "text": [
      "score: 0.735927\n",
      "score: 0.735927\n",
      "score: 0.735927\n",
      "score: 0.735927\n",
      "score: 0.735927\n",
      "score: 0.735927\n",
      "score: 0.735927\n",
      "score: 0.735927\n",
      "score: 0.735927\n",
      "score: 0.735927\n",
      "score: 0.735927\n",
      "score: 0.735927\n",
      "score: 0.735927\n",
      "score: 0.735927\n",
      "score: 0.735927\n",
      "score: 0.735927\n",
      "score: 0.735927\n",
      "score: 0.735927\n",
      "score: 0.735927\n",
      "score: 0.735927\n",
      "score: 0.735927\n",
      "score: 0.735927\n",
      "score: 0.735927\n",
      "score: 0.735927\n",
      "score: 0.735927\n",
      "score: 0.735927\n",
      "score: 0.735927\n",
      "score: 0.735927\n",
      "score: 0.735927\n",
      "score: 0.735927\n",
      "score: 0.735927\n",
      "score: 0.735927\n",
      "score: 0.735927\n",
      "score: 0.735927\n",
      "score: 0.735927\n",
      "score: 0.735927\n",
      "score: 0.735927\n",
      "score: 0.735927\n",
      "score: 0.735927\n",
      "score: 0.735927\n",
      "score: 0.735927\n",
      "score: 0.735927\n",
      "score: 0.735927\n",
      "score: 0.735927\n",
      "score: 0.735927\n",
      "score: 0.735927\n",
      "score: 0.735927\n",
      "score: 0.735927\n",
      "score: 0.735927\n",
      "score: 0.735927\n",
      "score: 0.735927\n",
      "score: 0.735927\n",
      "score: 0.735927\n",
      "score: 0.735927\n",
      "score: 0.735927\n",
      "score: 0.735927\n",
      "score: 0.735927\n",
      "score: 0.735927\n",
      "score: 0.735927\n",
      "score: 0.735927\n",
      "score: 0.735927\n",
      "score: 0.735927\n",
      "score: 0.735927\n",
      "score: 0.735927\n",
      "score: 0.735927\n",
      "score: 0.735927\n",
      "score: 0.735927\n",
      "score: 0.735927\n",
      "score: 0.735927\n",
      "score: 0.735927\n",
      "14.9 ms ± 6.44 ms per loop (mean ± std. dev. of 7 runs, 10 loops each)\n"
     ]
    }
   ],
   "source": [
    "%%timeit -n 10 #-o\n",
    "_ = guild.run(ridgeRegBoston)"
   ]
  },
  {
   "cell_type": "markdown",
   "metadata": {},
   "source": [
    "# without guild.ai"
   ]
  },
  {
   "cell_type": "code",
   "execution_count": 7,
   "metadata": {
    "scrolled": true
   },
   "outputs": [
    {
     "name": "stdout",
     "output_type": "stream",
     "text": [
      "score: 0.735927\n",
      "score: 0.735927\n",
      "score: 0.735927\n",
      "score: 0.735927\n",
      "score: 0.735927\n",
      "score: 0.735927\n",
      "score: 0.735927\n",
      "score: 0.735927\n",
      "score: 0.735927\n",
      "score: 0.735927\n",
      "score: 0.735927\n",
      "score: 0.735927\n",
      "score: 0.735927\n",
      "score: 0.735927\n",
      "score: 0.735927\n",
      "score: 0.735927\n",
      "score: 0.735927\n",
      "score: 0.735927\n",
      "score: 0.735927\n",
      "score: 0.735927\n",
      "score: 0.735927\n",
      "score: 0.735927\n",
      "score: 0.735927\n",
      "score: 0.735927\n",
      "score: 0.735927\n",
      "score: 0.735927\n",
      "score: 0.735927\n",
      "score: 0.735927\n",
      "score: 0.735927\n",
      "score: 0.735927\n",
      "score: 0.735927\n",
      "score: 0.735927\n",
      "score: 0.735927\n",
      "score: 0.735927\n",
      "score: 0.735927\n",
      "score: 0.735927\n",
      "score: 0.735927\n",
      "score: 0.735927\n",
      "score: 0.735927\n",
      "score: 0.735927\n",
      "score: 0.735927\n",
      "score: 0.735927\n",
      "score: 0.735927\n",
      "score: 0.735927\n",
      "score: 0.735927\n",
      "score: 0.735927\n",
      "score: 0.735927\n",
      "score: 0.735927\n",
      "score: 0.735927\n",
      "score: 0.735927\n",
      "score: 0.735927\n",
      "score: 0.735927\n",
      "score: 0.735927\n",
      "score: 0.735927\n",
      "score: 0.735927\n",
      "score: 0.735927\n",
      "score: 0.735927\n",
      "score: 0.735927\n",
      "score: 0.735927\n",
      "score: 0.735927\n",
      "score: 0.735927\n",
      "score: 0.735927\n",
      "score: 0.735927\n",
      "score: 0.735927\n",
      "score: 0.735927\n",
      "score: 0.735927\n",
      "score: 0.735927\n",
      "score: 0.735927\n",
      "score: 0.735927\n",
      "score: 0.735927\n",
      "6.08 ms ± 2.34 ms per loop (mean ± std. dev. of 7 runs, 10 loops each)\n"
     ]
    }
   ],
   "source": [
    "%%timeit -n 10 #-o\n",
    "ridgeRegBoston()"
   ]
  },
  {
   "cell_type": "markdown",
   "metadata": {},
   "source": [
    "# Binary classification using Random Forest on the example of iris data"
   ]
  },
  {
   "cell_type": "code",
   "execution_count": 9,
   "metadata": {},
   "outputs": [],
   "source": [
    "import numpy as np\n",
    "from sklearn.ensemble import RandomForestClassifier\n",
    "from sklearn.model_selection import train_test_split\n",
    "from sklearn.utils import shuffle\n",
    "from numpy.random.mtrand import permutation\n",
    "from sklearn.datasets import load_iris\n",
    "import scikitplot\n",
    "from sklearn import metrics"
   ]
  },
  {
   "cell_type": "code",
   "execution_count": 10,
   "metadata": {},
   "outputs": [],
   "source": [
    "# load data\n",
    "iris = load_iris()\n",
    "X = iris.data\n",
    "y = iris.target\n",
    "labels = iris.target_names\n",
    "features = iris.feature_names\n",
    "\n",
    "#y[y != 0] = 1\n",
    "\n",
    "# shuffle data\n",
    "X, y = shuffle(X, y)\n",
    "X_train, X_test, y_train, y_test = train_test_split(X, y, test_size=0.1)"
   ]
  },
  {
   "cell_type": "code",
   "execution_count": 11,
   "metadata": {},
   "outputs": [],
   "source": [
    "def randomForIris():# create model\n",
    "    model = RandomForestClassifier()\n",
    "    model.fit(X, y)\n",
    "    y_pred = model.predict(X_test)\n",
    "    y_probas = model.predict_proba(X_test)\n",
    "    print(\"Accuracy: %f\" % metrics.accuracy_score(y_test, y_pred))\n",
    "    #scikitplot.metrics.plot_roc(y_test, y_probas);\n",
    "    #scikitplot.metrics.plot_precision_recall(y_test, y_probas);"
   ]
  },
  {
   "cell_type": "markdown",
   "metadata": {},
   "source": [
    "# without guild.ai"
   ]
  },
  {
   "cell_type": "code",
   "execution_count": 12,
   "metadata": {
    "scrolled": true
   },
   "outputs": [
    {
     "name": "stdout",
     "output_type": "stream",
     "text": [
      "Accuracy: 1.000000\n",
      "Accuracy: 1.000000\n",
      "Accuracy: 1.000000\n",
      "Accuracy: 1.000000\n",
      "Accuracy: 1.000000\n",
      "Accuracy: 1.000000\n",
      "Accuracy: 1.000000\n",
      "Accuracy: 1.000000\n",
      "Accuracy: 1.000000\n",
      "Accuracy: 1.000000\n",
      "Accuracy: 1.000000\n",
      "Accuracy: 1.000000\n",
      "Accuracy: 1.000000\n",
      "Accuracy: 1.000000\n",
      "Accuracy: 1.000000\n",
      "Accuracy: 1.000000\n",
      "Accuracy: 1.000000\n",
      "Accuracy: 1.000000\n",
      "Accuracy: 1.000000\n",
      "Accuracy: 1.000000\n",
      "Accuracy: 1.000000\n",
      "Accuracy: 1.000000\n",
      "Accuracy: 1.000000\n",
      "Accuracy: 1.000000\n",
      "Accuracy: 1.000000\n",
      "Accuracy: 1.000000\n",
      "Accuracy: 1.000000\n",
      "Accuracy: 1.000000\n",
      "Accuracy: 1.000000\n",
      "Accuracy: 1.000000\n",
      "Accuracy: 1.000000\n",
      "Accuracy: 1.000000\n",
      "Accuracy: 1.000000\n",
      "Accuracy: 1.000000\n",
      "Accuracy: 1.000000\n",
      "Accuracy: 1.000000\n",
      "Accuracy: 1.000000\n",
      "Accuracy: 1.000000\n",
      "Accuracy: 1.000000\n",
      "Accuracy: 1.000000\n",
      "Accuracy: 1.000000\n",
      "Accuracy: 1.000000\n",
      "Accuracy: 1.000000\n",
      "Accuracy: 1.000000\n",
      "Accuracy: 1.000000\n",
      "Accuracy: 1.000000\n",
      "Accuracy: 1.000000\n",
      "Accuracy: 1.000000\n",
      "Accuracy: 1.000000\n",
      "Accuracy: 1.000000\n",
      "Accuracy: 1.000000\n",
      "Accuracy: 1.000000\n",
      "Accuracy: 1.000000\n",
      "Accuracy: 1.000000\n",
      "Accuracy: 1.000000\n",
      "Accuracy: 1.000000\n",
      "Accuracy: 1.000000\n",
      "Accuracy: 1.000000\n",
      "Accuracy: 1.000000\n",
      "Accuracy: 1.000000\n",
      "Accuracy: 1.000000\n",
      "Accuracy: 1.000000\n",
      "Accuracy: 1.000000\n",
      "Accuracy: 1.000000\n",
      "Accuracy: 1.000000\n",
      "Accuracy: 1.000000\n",
      "Accuracy: 1.000000\n",
      "Accuracy: 1.000000\n",
      "Accuracy: 1.000000\n",
      "Accuracy: 1.000000\n",
      "250 ms ± 52.1 ms per loop (mean ± std. dev. of 7 runs, 10 loops each)\n"
     ]
    }
   ],
   "source": [
    "%%timeit -n 10 #-o\n",
    "randomForIris()"
   ]
  },
  {
   "cell_type": "markdown",
   "metadata": {},
   "source": [
    "# with guild.ai"
   ]
  },
  {
   "cell_type": "code",
   "execution_count": 13,
   "metadata": {
    "scrolled": true
   },
   "outputs": [
    {
     "name": "stdout",
     "output_type": "stream",
     "text": [
      "Accuracy: 1.000000\n",
      "Accuracy: 1.000000\n",
      "Accuracy: 1.000000\n",
      "Accuracy: 1.000000\n",
      "Accuracy: 1.000000\n",
      "Accuracy: 1.000000\n",
      "Accuracy: 1.000000\n",
      "Accuracy: 1.000000\n",
      "Accuracy: 1.000000\n",
      "Accuracy: 1.000000\n",
      "Accuracy: 1.000000\n",
      "Accuracy: 1.000000\n",
      "Accuracy: 1.000000\n",
      "Accuracy: 1.000000\n",
      "Accuracy: 1.000000\n",
      "Accuracy: 1.000000\n",
      "Accuracy: 1.000000\n",
      "Accuracy: 1.000000\n",
      "Accuracy: 1.000000\n",
      "Accuracy: 1.000000\n",
      "Accuracy: 1.000000\n",
      "Accuracy: 1.000000\n",
      "Accuracy: 1.000000\n",
      "Accuracy: 1.000000\n",
      "Accuracy: 1.000000\n",
      "Accuracy: 1.000000\n",
      "Accuracy: 1.000000\n",
      "Accuracy: 1.000000\n",
      "Accuracy: 1.000000\n",
      "Accuracy: 1.000000\n",
      "Accuracy: 1.000000\n",
      "Accuracy: 1.000000\n",
      "Accuracy: 1.000000\n",
      "Accuracy: 1.000000\n",
      "Accuracy: 1.000000\n",
      "Accuracy: 1.000000\n",
      "Accuracy: 1.000000\n",
      "Accuracy: 1.000000\n",
      "Accuracy: 1.000000\n",
      "Accuracy: 1.000000\n",
      "Accuracy: 1.000000\n",
      "Accuracy: 1.000000\n",
      "Accuracy: 1.000000\n",
      "Accuracy: 1.000000\n",
      "Accuracy: 1.000000\n",
      "Accuracy: 1.000000\n",
      "Accuracy: 1.000000\n",
      "Accuracy: 1.000000\n",
      "Accuracy: 1.000000\n",
      "Accuracy: 1.000000\n",
      "Accuracy: 1.000000\n",
      "Accuracy: 1.000000\n",
      "Accuracy: 1.000000\n",
      "Accuracy: 1.000000\n",
      "Accuracy: 1.000000\n",
      "Accuracy: 1.000000\n",
      "Accuracy: 1.000000\n",
      "Accuracy: 1.000000\n",
      "Accuracy: 1.000000\n",
      "Accuracy: 1.000000\n",
      "Accuracy: 1.000000\n",
      "Accuracy: 1.000000\n",
      "Accuracy: 1.000000\n",
      "Accuracy: 1.000000\n",
      "Accuracy: 1.000000\n",
      "Accuracy: 1.000000\n",
      "Accuracy: 1.000000\n",
      "Accuracy: 1.000000\n",
      "Accuracy: 1.000000\n",
      "Accuracy: 1.000000\n",
      "278 ms ± 75.1 ms per loop (mean ± std. dev. of 7 runs, 10 loops each)\n"
     ]
    }
   ],
   "source": [
    "%%timeit -n 10 #-o\n",
    "_ = guild.run(randomForIris)"
   ]
  },
  {
   "cell_type": "markdown",
   "metadata": {},
   "source": [
    "# Clustering with KMeans with iris data\n",
    "(can add also DBSCAN, AgglomerativeClustering)"
   ]
  },
  {
   "cell_type": "code",
   "execution_count": 14,
   "metadata": {},
   "outputs": [],
   "source": [
    "import matplotlib.pyplot as plt\n",
    "from sklearn.cluster import KMeans, DBSCAN, AgglomerativeClustering\n",
    "from sklearn import datasets, cluster\n",
    "from sklearn.datasets import load_iris\n",
    "import numpy as np\n",
    "import scikitplot"
   ]
  },
  {
   "cell_type": "code",
   "execution_count": 15,
   "metadata": {},
   "outputs": [],
   "source": [
    "#Load data\n",
    "iris = datasets.load_iris()\n",
    "X = iris.data\n",
    "y = iris.target"
   ]
  },
  {
   "cell_type": "code",
   "execution_count": 16,
   "metadata": {},
   "outputs": [],
   "source": [
    "def kmeansIris():\n",
    "    kmeans = KMeans(n_clusters=4, random_state=21)\n",
    "    cluster_labels = kmeans.fit_predict(X)\n",
    "    print(\"Score: %f\" % kmeans.score(X))\n",
    "    #scikitplot.cluster.plot_elbow_curve(kmeans, X)\n",
    "    #scikitplot.metrics.plot_silhouette(X, cluster_labels)"
   ]
  },
  {
   "cell_type": "markdown",
   "metadata": {},
   "source": [
    "# without guild.ai"
   ]
  },
  {
   "cell_type": "code",
   "execution_count": 17,
   "metadata": {
    "scrolled": true
   },
   "outputs": [
    {
     "name": "stdout",
     "output_type": "stream",
     "text": [
      "Score: -57.228473\n",
      "Score: -57.228473\n",
      "Score: -57.228473\n",
      "Score: -57.228473\n",
      "Score: -57.228473\n",
      "Score: -57.228473\n",
      "Score: -57.228473\n",
      "Score: -57.228473\n",
      "Score: -57.228473\n",
      "Score: -57.228473\n",
      "Score: -57.228473\n",
      "Score: -57.228473\n",
      "Score: -57.228473\n",
      "Score: -57.228473\n",
      "Score: -57.228473\n",
      "Score: -57.228473\n",
      "Score: -57.228473\n",
      "Score: -57.228473\n",
      "Score: -57.228473\n",
      "Score: -57.228473\n",
      "Score: -57.228473\n",
      "Score: -57.228473\n",
      "Score: -57.228473\n",
      "Score: -57.228473\n",
      "Score: -57.228473\n",
      "Score: -57.228473\n",
      "Score: -57.228473\n",
      "Score: -57.228473\n",
      "Score: -57.228473\n",
      "Score: -57.228473\n",
      "Score: -57.228473\n",
      "Score: -57.228473\n",
      "Score: -57.228473\n",
      "Score: -57.228473\n",
      "Score: -57.228473\n",
      "Score: -57.228473\n",
      "Score: -57.228473\n",
      "Score: -57.228473\n",
      "Score: -57.228473\n",
      "Score: -57.228473\n",
      "Score: -57.228473\n",
      "Score: -57.228473\n",
      "Score: -57.228473\n",
      "Score: -57.228473\n",
      "Score: -57.228473\n",
      "Score: -57.228473\n",
      "Score: -57.228473\n",
      "Score: -57.228473\n",
      "Score: -57.228473\n",
      "Score: -57.228473\n",
      "Score: -57.228473\n",
      "Score: -57.228473\n",
      "Score: -57.228473\n",
      "Score: -57.228473\n",
      "Score: -57.228473\n",
      "Score: -57.228473\n",
      "Score: -57.228473\n",
      "Score: -57.228473\n",
      "Score: -57.228473\n",
      "Score: -57.228473\n",
      "Score: -57.228473\n",
      "Score: -57.228473\n",
      "Score: -57.228473\n",
      "Score: -57.228473\n",
      "Score: -57.228473\n",
      "Score: -57.228473\n",
      "Score: -57.228473\n",
      "Score: -57.228473\n",
      "Score: -57.228473\n",
      "Score: -57.228473\n",
      "43.5 ms ± 3.01 ms per loop (mean ± std. dev. of 7 runs, 10 loops each)\n"
     ]
    }
   ],
   "source": [
    "%%timeit -n 10 #-o\n",
    "kmeansIris()"
   ]
  },
  {
   "cell_type": "markdown",
   "metadata": {},
   "source": [
    "# with guild.ai"
   ]
  },
  {
   "cell_type": "code",
   "execution_count": 18,
   "metadata": {
    "scrolled": true
   },
   "outputs": [
    {
     "name": "stdout",
     "output_type": "stream",
     "text": [
      "Score: -57.228473\n",
      "Score: -57.228473\n",
      "Score: -57.228473\n",
      "Score: -57.228473\n",
      "Score: -57.228473\n",
      "Score: -57.228473\n",
      "Score: -57.228473\n",
      "Score: -57.228473\n",
      "Score: -57.228473\n",
      "Score: -57.228473\n",
      "Score: -57.228473\n",
      "Score: -57.228473\n",
      "Score: -57.228473\n",
      "Score: -57.228473\n",
      "Score: -57.228473\n",
      "Score: -57.228473\n",
      "Score: -57.228473\n",
      "Score: -57.228473\n",
      "Score: -57.228473\n",
      "Score: -57.228473\n",
      "Score: -57.228473\n",
      "Score: -57.228473\n",
      "Score: -57.228473\n",
      "Score: -57.228473\n",
      "Score: -57.228473\n",
      "Score: -57.228473\n",
      "Score: -57.228473\n",
      "Score: -57.228473\n",
      "Score: -57.228473\n",
      "Score: -57.228473\n",
      "Score: -57.228473\n",
      "Score: -57.228473\n",
      "Score: -57.228473\n",
      "Score: -57.228473\n",
      "Score: -57.228473\n",
      "Score: -57.228473\n",
      "Score: -57.228473\n",
      "Score: -57.228473\n",
      "Score: -57.228473\n",
      "Score: -57.228473\n",
      "Score: -57.228473\n",
      "Score: -57.228473\n",
      "Score: -57.228473\n",
      "Score: -57.228473\n",
      "Score: -57.228473\n",
      "Score: -57.228473\n",
      "Score: -57.228473\n",
      "Score: -57.228473\n",
      "Score: -57.228473\n",
      "Score: -57.228473\n",
      "Score: -57.228473\n",
      "Score: -57.228473\n",
      "Score: -57.228473\n",
      "Score: -57.228473\n",
      "Score: -57.228473\n",
      "Score: -57.228473\n",
      "Score: -57.228473\n",
      "Score: -57.228473\n",
      "Score: -57.228473\n",
      "Score: -57.228473\n",
      "Score: -57.228473\n",
      "Score: -57.228473\n",
      "Score: -57.228473\n",
      "Score: -57.228473\n",
      "Score: -57.228473\n",
      "Score: -57.228473\n",
      "Score: -57.228473\n",
      "Score: -57.228473\n",
      "Score: -57.228473\n",
      "Score: -57.228473\n",
      "48.8 ms ± 2.6 ms per loop (mean ± std. dev. of 7 runs, 10 loops each)\n"
     ]
    }
   ],
   "source": [
    "%%timeit -n 10 #-o\n",
    "_ = guild.run(kmeansIris)"
   ]
  },
  {
   "cell_type": "markdown",
   "metadata": {},
   "source": [
    "# SVM on iris data"
   ]
  },
  {
   "cell_type": "code",
   "execution_count": 19,
   "metadata": {},
   "outputs": [],
   "source": [
    "import numpy as np\n",
    "from sklearn import datasets\n",
    "from sklearn.preprocessing import StandardScaler\n",
    "from sklearn.model_selection import train_test_split\n",
    "from sklearn.svm import SVC\n",
    "import sklearn"
   ]
  },
  {
   "cell_type": "code",
   "execution_count": 20,
   "metadata": {},
   "outputs": [],
   "source": [
    "iris = datasets.load_iris()\n",
    "\n",
    "X = iris.data[:, [2, 3]]\n",
    "y = iris.target\n",
    "\n",
    "X_train, X_test, y_train, y_test = train_test_split(X, y, test_size=0.3, random_state=0)\n",
    "\n",
    "sc = StandardScaler()\n",
    "sc.fit(X_train)\n",
    "\n",
    "X_train_std = sc.transform(X_train)\n",
    "X_test_std = sc.transform(X_test)\n",
    "\n",
    "X_combined_std = np.vstack((X_train_std, X_test_std))\n",
    "y_combined = np.hstack((y_train, y_test))\n",
    "\n",
    "\n",
    "# Create a matplotlib custom plot to save \n",
    "#def plot_data():\n",
    "#    from matplotlib.colors import ListedColormap\n",
    "#    import matplotlib.pyplot as plt\n",
    "#\n",
    "#    markers = ('s', 'x', 'o')\n",
    "#    colors = ('red', 'blue', 'lightgreen')\n",
    "#    cmap = ListedColormap(colors[:len(np.unique(y_test))])\n",
    "#    for idx, cl in enumerate(np.unique(y)):\n",
    "#        plt.scatter(x=X[y == cl, 0], y=X[y == cl, 1],\n",
    "#               c=cmap(idx), marker=markers[idx], label=cl)\n",
    "\n",
    "\n",
    "#plot_data()\n",
    "\n",
    "#### get the whole list of the parameters for the run for the estimator (if we are not logging it inside the loop)param_config = svm.get_params()\n",
    "#param_config\n"
   ]
  },
  {
   "cell_type": "code",
   "execution_count": 21,
   "metadata": {},
   "outputs": [],
   "source": [
    "def SVCIris():\n",
    "    # Fit model\n",
    "    svm = SVC(kernel='rbf', random_state=0, gamma=10, C=1)\n",
    "    svm.fit(X_train_std, y_train)"
   ]
  },
  {
   "cell_type": "markdown",
   "metadata": {},
   "source": [
    "# without guild.ai"
   ]
  },
  {
   "cell_type": "code",
   "execution_count": 22,
   "metadata": {},
   "outputs": [
    {
     "name": "stdout",
     "output_type": "stream",
     "text": [
      "1.31 ms ± 443 µs per loop (mean ± std. dev. of 7 runs, 10 loops each)\n"
     ]
    }
   ],
   "source": [
    "%%timeit -n 10 #-o\n",
    "SVCIris()"
   ]
  },
  {
   "cell_type": "markdown",
   "metadata": {},
   "source": [
    "# with guild.ai"
   ]
  },
  {
   "cell_type": "code",
   "execution_count": 23,
   "metadata": {},
   "outputs": [
    {
     "name": "stdout",
     "output_type": "stream",
     "text": [
      "6.71 ms ± 2.09 ms per loop (mean ± std. dev. of 7 runs, 10 loops each)\n"
     ]
    }
   ],
   "source": [
    "%%timeit -n 10 #-o\n",
    "_ = guild.run(SVCIris)"
   ]
  },
  {
   "cell_type": "code",
   "execution_count": null,
   "metadata": {},
   "outputs": [],
   "source": []
  }
 ],
 "metadata": {
  "kernelspec": {
   "display_name": "Python [conda env:guild-ai] *",
   "language": "python",
   "name": "conda-env-guild-ai-py"
  },
  "language_info": {
   "codemirror_mode": {
    "name": "ipython",
    "version": 3
   },
   "file_extension": ".py",
   "mimetype": "text/x-python",
   "name": "python",
   "nbconvert_exporter": "python",
   "pygments_lexer": "ipython3",
   "version": "3.7.9"
  }
 },
 "nbformat": 4,
 "nbformat_minor": 4
}
