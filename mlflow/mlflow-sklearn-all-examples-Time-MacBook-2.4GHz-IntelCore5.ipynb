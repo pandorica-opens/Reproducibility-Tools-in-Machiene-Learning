{
 "cells": [
  {
   "cell_type": "markdown",
   "metadata": {},
   "source": [
    "# Two line logging in ML Flow\n",
    "`import mlflow\n",
    "mlflow.sklearn.autolog(log_input_examples=True, log_model_signatures=True)\n",
    "!mlflow ui`"
   ]
  },
  {
   "cell_type": "markdown",
   "metadata": {},
   "source": [
    "# Ridge regression on example of boston data without mlflow"
   ]
  },
  {
   "cell_type": "code",
   "execution_count": 4,
   "metadata": {},
   "outputs": [],
   "source": [
    "mlflow.sklearn.autolog(disable=True)"
   ]
  },
  {
   "cell_type": "code",
   "execution_count": 5,
   "metadata": {},
   "outputs": [
    {
     "name": "stdout",
     "output_type": "stream",
     "text": [
      "16.4 ms ± 4.34 ms per loop (mean ± std. dev. of 7 runs, 10 loops each)\n"
     ]
    }
   ],
   "source": [
    "%%timeit -n 10 #-o\n",
    "from sklearn.datasets import load_boston\n",
    "from sklearn.model_selection import train_test_split\n",
    "from sklearn.linear_model import Ridge\n",
    "import pandas as pd\n",
    "\n",
    "# Load data\n",
    "boston = load_boston()\n",
    "X = pd.DataFrame(boston.data, columns=boston.feature_names)\n",
    "y = boston.target\n",
    "X_train, X_test, y_train, y_test = train_test_split(X, y, test_size=0.2)\n",
    "\n",
    "# Train model, get predictions\n",
    "reg = Ridge()\n",
    "reg.fit(X, y)\n",
    "y_pred = reg.predict(X_test)\n"
   ]
  },
  {
   "cell_type": "markdown",
   "metadata": {},
   "source": [
    "# Ridge regression on example of boston data with mlflow"
   ]
  },
  {
   "cell_type": "code",
   "execution_count": 6,
   "metadata": {},
   "outputs": [],
   "source": [
    "mlflow.sklearn.autolog(log_input_examples=True, log_model_signatures=True)"
   ]
  },
  {
   "cell_type": "code",
   "execution_count": 7,
   "metadata": {},
   "outputs": [
    {
     "name": "stdout",
     "output_type": "stream",
     "text": [
      "89 ms ± 10.7 ms per loop (mean ± std. dev. of 7 runs, 10 loops each)\n"
     ]
    }
   ],
   "source": [
    "%%timeit -n 10 #-o\n",
    "from sklearn.datasets import load_boston\n",
    "from sklearn.model_selection import train_test_split\n",
    "from sklearn.linear_model import Ridge\n",
    "import pandas as pd\n",
    "\n",
    "# Load data\n",
    "boston = load_boston()\n",
    "X = pd.DataFrame(boston.data, columns=boston.feature_names)\n",
    "y = boston.target\n",
    "X_train, X_test, y_train, y_test = train_test_split(X, y, test_size=0.2)\n",
    "\n",
    "# Train model, get predictions\n",
    "reg = Ridge()\n",
    "reg.fit(X, y)\n",
    "y_pred = reg.predict(X_test)"
   ]
  },
  {
   "cell_type": "code",
   "execution_count": 8,
   "metadata": {},
   "outputs": [],
   "source": [
    "#!mlflow ui"
   ]
  },
  {
   "cell_type": "markdown",
   "metadata": {},
   "source": [
    "# Binary classification using Random Forest on the example of iris data without mlflow"
   ]
  },
  {
   "cell_type": "code",
   "execution_count": 9,
   "metadata": {},
   "outputs": [],
   "source": [
    "mlflow.sklearn.autolog(disable=True)\n",
    "import numpy as np\n",
    "from sklearn.ensemble import RandomForestClassifier\n",
    "from sklearn.model_selection import train_test_split\n",
    "from sklearn.utils import shuffle\n",
    "from numpy.random.mtrand import permutation\n",
    "from sklearn.datasets import load_iris\n",
    "import scikitplot"
   ]
  },
  {
   "cell_type": "code",
   "execution_count": 10,
   "metadata": {},
   "outputs": [
    {
     "name": "stdout",
     "output_type": "stream",
     "text": [
      "216 ms ± 32.2 ms per loop (mean ± std. dev. of 7 runs, 10 loops each)\n"
     ]
    }
   ],
   "source": [
    "%%timeit -n 10 #-o\n",
    "\n",
    "# load data\n",
    "iris = load_iris()\n",
    "X = iris.data\n",
    "y = iris.target\n",
    "labels = iris.target_names\n",
    "features = iris.feature_names\n",
    "\n",
    "#y[y != 0] = 1\n",
    "\n",
    "# shuffle data\n",
    "X, y = shuffle(X, y)\n",
    "X_train, X_test, y_train, y_test = train_test_split(X, y, test_size=0.1)\n",
    "\n",
    "# create model\n",
    "model = RandomForestClassifier()\n",
    "model.fit(X, y)\n",
    "y_pred = model.predict(X_test)\n",
    "y_probas = model.predict_proba(X_test)\n",
    "\n",
    "\n",
    "#scikitplot.metrics.plot_roc(y_test, y_probas);\n",
    "#scikitplot.metrics.plot_precision_recall(y_test, y_probas);"
   ]
  },
  {
   "cell_type": "markdown",
   "metadata": {},
   "source": [
    "# Binary classification using Random Forest on the example of iris data with mlflow"
   ]
  },
  {
   "cell_type": "code",
   "execution_count": 11,
   "metadata": {},
   "outputs": [],
   "source": [
    "mlflow.sklearn.autolog(log_input_examples=True, log_model_signatures=True)"
   ]
  },
  {
   "cell_type": "code",
   "execution_count": 12,
   "metadata": {},
   "outputs": [
    {
     "name": "stdout",
     "output_type": "stream",
     "text": [
      "932 ms ± 239 ms per loop (mean ± std. dev. of 7 runs, 10 loops each)\n"
     ]
    }
   ],
   "source": [
    "%%timeit -n 10 #-o\n",
    "# load data\n",
    "iris = load_iris()\n",
    "X = iris.data\n",
    "y = iris.target\n",
    "labels = iris.target_names\n",
    "features = iris.feature_names\n",
    "\n",
    "y[y != 0] = 1.0\n",
    "\n",
    "# shuffle data\n",
    "X, y = shuffle(X, y)\n",
    "X_train, X_test, y_train, y_test = train_test_split(X, y, test_size=0.1)\n",
    "\n",
    "# create model\n",
    "model = RandomForestClassifier()\n",
    "model.fit(X, y)\n",
    "y_pred = model.predict(X_test)\n",
    "y_probas = model.predict_proba(X_test)\n",
    "\n",
    "#scikitplot.metrics.plot_roc(y_test, y_probas);\n",
    "#scikitplot.metrics.plot_precision_recall(y_test, y_probas);"
   ]
  },
  {
   "cell_type": "code",
   "execution_count": 13,
   "metadata": {},
   "outputs": [],
   "source": [
    "#!mlflow ui"
   ]
  },
  {
   "cell_type": "markdown",
   "metadata": {},
   "source": [
    "# Clustering with KMeans\n",
    "## using iris data without mlflow without autologging: metrics weren't being saved\n",
    "(can add also DBSCAN, AgglomerativeClustering)"
   ]
  },
  {
   "cell_type": "code",
   "execution_count": 14,
   "metadata": {},
   "outputs": [],
   "source": [
    "import matplotlib.pyplot as plt\n",
    "from sklearn.cluster import KMeans, DBSCAN, AgglomerativeClustering\n",
    "from sklearn import datasets, cluster\n",
    "from sklearn.datasets import load_iris\n",
    "import numpy as np\n",
    "import mlflow.sklearn\n",
    "mlflow.sklearn.autolog(disable=True)\n",
    "import scikitplot\n"
   ]
  },
  {
   "cell_type": "code",
   "execution_count": 15,
   "metadata": {},
   "outputs": [
    {
     "name": "stdout",
     "output_type": "stream",
     "text": [
      "42.8 ms ± 1.21 ms per loop (mean ± std. dev. of 7 runs, 10 loops each)\n"
     ]
    }
   ],
   "source": [
    "%%timeit -n 10 #-o\n",
    "iris = datasets.load_iris()\n",
    "X = iris.data\n",
    "y = iris.target\n",
    "\n",
    "kmeans = KMeans(n_clusters=4, random_state=21)\n",
    "\n",
    "cluster_labels = kmeans.fit_predict(X)\n",
    "\n",
    "#scikitplot.cluster.plot_elbow_curve(kmeans, X)\n",
    "#scikitplot.metrics.plot_silhouette(X, cluster_labels)"
   ]
  },
  {
   "cell_type": "markdown",
   "metadata": {},
   "source": [
    "# Clustering with KMeans \n",
    "## using iris data with mlflow without autologging: metrics weren't being saved\n",
    "(can add also DBSCAN, AgglomerativeClustering)"
   ]
  },
  {
   "cell_type": "code",
   "execution_count": 16,
   "metadata": {},
   "outputs": [],
   "source": [
    " #mlflow.sklearn.autolog(log_input_examples=True, log_model_signatures=True)"
   ]
  },
  {
   "cell_type": "code",
   "execution_count": 17,
   "metadata": {},
   "outputs": [
    {
     "name": "stdout",
     "output_type": "stream",
     "text": [
      "88.9 ms ± 4.99 ms per loop (mean ± std. dev. of 7 runs, 10 loops each)\n"
     ]
    }
   ],
   "source": [
    "%%timeit -n 10 #-o\n",
    "iris = datasets.load_iris()\n",
    "X = iris.data\n",
    "y = iris.target\n",
    "\n",
    "kmeans = KMeans(n_clusters=4, random_state=21)\n",
    "params = kmeans.get_params()\n",
    "\n",
    "with mlflow.start_run() as run:\n",
    "    cluster_labels = kmeans.fit_predict(X)\n",
    "    mlflow.log_params(params)\n",
    "    mlflow.sklearn.log_model(cluster_labels, artifact_path=\"model1\")\n",
    "    mlflow.log_metric(\"score\", kmeans.score(X), step=None)\n",
    "\n",
    "    #scikitplot.cluster.plot_elbow_curve(kmeans, X)\n",
    "    #scikitplot.metrics.plot_silhouette(X, cluster_labels)\n",
    "    \n",
    "    # Log artifacts (output files) #save plt and then save as artifact.. can't be done directly\n",
    "    #mlflow.log_artifact(\"elbow.png\")"
   ]
  },
  {
   "cell_type": "code",
   "execution_count": 18,
   "metadata": {},
   "outputs": [],
   "source": [
    "#!mlflow ui"
   ]
  },
  {
   "cell_type": "markdown",
   "metadata": {},
   "source": [
    "# SVM on iris data without mlflow"
   ]
  },
  {
   "cell_type": "code",
   "execution_count": 19,
   "metadata": {},
   "outputs": [],
   "source": [
    "mlflow.sklearn.autolog(disable=True)\n",
    "import numpy as np\n",
    "from sklearn import datasets\n",
    "from sklearn.preprocessing import StandardScaler\n",
    "from sklearn.model_selection import train_test_split\n",
    "from sklearn.svm import SVC\n",
    "import sklearn"
   ]
  },
  {
   "cell_type": "code",
   "execution_count": 20,
   "metadata": {},
   "outputs": [
    {
     "name": "stdout",
     "output_type": "stream",
     "text": [
      "17.1 ms ± 2.42 ms per loop (mean ± std. dev. of 7 runs, 10 loops each)\n"
     ]
    },
    {
     "data": {
      "image/png": "[encoded data removed]",
      "text/plain": [
       "<Figure size 432x288 with 1 Axes>"
      ]
     },
     "metadata": {
      "needs_background": "light"
     },
     "output_type": "display_data"
    }
   ],
   "source": [
    "%%timeit -n 10 #-o\n",
    "\n",
    "iris = datasets.load_iris()\n",
    "\n",
    "X = iris.data[:, [2, 3]]\n",
    "y = iris.target\n",
    "\n",
    "X_train, X_test, y_train, y_test = train_test_split(X, y, test_size=0.3, random_state=0)\n",
    "\n",
    "sc = StandardScaler()\n",
    "sc.fit(X_train)\n",
    "\n",
    "X_train_std = sc.transform(X_train)\n",
    "X_test_std = sc.transform(X_test)\n",
    "\n",
    "X_combined_std = np.vstack((X_train_std, X_test_std))\n",
    "y_combined = np.hstack((y_train, y_test))\n",
    "\n",
    "# Fit model\n",
    "svm = SVC(kernel='rbf', random_state=0, gamma=10, C=1)\n",
    "svm.fit(X_train_std, y_train)\n",
    "\n",
    "# Create a matplotlib custom plot to save \n",
    "def plot_data():\n",
    "    from matplotlib.colors import ListedColormap\n",
    "    import matplotlib.pyplot as plt\n",
    "\n",
    "    markers = ('s', 'x', 'o')\n",
    "    colors = ('red', 'blue', 'lightgreen')\n",
    "    cmap = ListedColormap(colors[:len(np.unique(y_test))])\n",
    "    for idx, cl in enumerate(np.unique(y)):\n",
    "        plt.scatter(x=X[y == cl, 0], y=X[y == cl, 1],\n",
    "               c=cmap(idx), marker=markers[idx], label=cl)\n",
    "\n",
    "\n",
    "plot_data()\n",
    "\n",
    "#### get the whole list of the parameters for the run for the estimator (if we are not logging it inside the loop)param_config = svm.get_params()\n",
    "#param_config\n"
   ]
  },
  {
   "cell_type": "markdown",
   "metadata": {},
   "source": [
    "# SVM on iris data with mlflow"
   ]
  },
  {
   "cell_type": "code",
   "execution_count": 21,
   "metadata": {},
   "outputs": [],
   "source": [
    "mlflow.sklearn.autolog(log_input_examples=True, log_model_signatures=True)\n",
    "import numpy as np\n",
    "from sklearn import datasets\n",
    "from sklearn.preprocessing import StandardScaler\n",
    "from sklearn.model_selection import train_test_split\n",
    "from sklearn.svm import SVC\n",
    "import sklearn"
   ]
  },
  {
   "cell_type": "code",
   "execution_count": 22,
   "metadata": {},
   "outputs": [
    {
     "name": "stdout",
     "output_type": "stream",
     "text": [
      "253 ms ± 24 ms per loop (mean ± std. dev. of 7 runs, 10 loops each)\n"
     ]
    },
    {
     "data": {
      "image/png": "[encoded data removed]",
      "text/plain": [
       "<Figure size 432x288 with 1 Axes>"
      ]
     },
     "metadata": {
      "needs_background": "light"
     },
     "output_type": "display_data"
    }
   ],
   "source": [
    "%%timeit -n 10 #-o\n",
    "\n",
    "\n",
    "iris = datasets.load_iris()\n",
    "\n",
    "X = iris.data[:, [2, 3]]\n",
    "y = iris.target\n",
    "\n",
    "X_train, X_test, y_train, y_test = train_test_split(X, y, test_size=0.3, random_state=0)\n",
    "\n",
    "sc = StandardScaler()\n",
    "sc.fit(X_train)\n",
    "\n",
    "X_train_std = sc.transform(X_train)\n",
    "X_test_std = sc.transform(X_test)\n",
    "\n",
    "X_combined_std = np.vstack((X_train_std, X_test_std))\n",
    "y_combined = np.hstack((y_train, y_test))\n",
    "\n",
    "# Fit model\n",
    "svm = SVC(kernel='rbf', random_state=0, gamma=10, C=1)\n",
    "svm.fit(X_train_std, y_train)\n",
    "\n",
    "# Create a matplotlib custom plot to save \n",
    "def plot_data():\n",
    "    from matplotlib.colors import ListedColormap\n",
    "    import matplotlib.pyplot as plt\n",
    "\n",
    "    markers = ('s', 'x', 'o')\n",
    "    colors = ('red', 'blue', 'lightgreen')\n",
    "    cmap = ListedColormap(colors[:len(np.unique(y_test))])\n",
    "    for idx, cl in enumerate(np.unique(y)):\n",
    "        plt.scatter(x=X[y == cl, 0], y=X[y == cl, 1],\n",
    "               c=cmap(idx), marker=markers[idx], label=cl)\n",
    "\n",
    "\n",
    "plot_data()\n",
    "\n",
    "#### get the whole list of the parameters for the run for the estimator (if we are not logging it inside the loop)param_config = svm.get_params()\n",
    "#param_config\n"
   ]
  },
  {
   "cell_type": "code",
   "execution_count": 23,
   "metadata": {},
   "outputs": [],
   "source": [
    "#!mlflow ui"
   ]
  },
  {
   "cell_type": "code",
   "execution_count": 24,
   "metadata": {},
   "outputs": [],
   "source": [
    "import glob\n",
    "import numpy as np\n",
    "import pandas as pd\n",
    "import seaborn as sns\n",
    "from tqdm import tqdm\n",
    "import warnings\n",
    "warnings.filterwarnings('ignore')\n",
    "\n",
    "from itertools import cycle, islice\n",
    "from sklearn.model_selection import train_test_split\n",
    "from sklearn.preprocessing import Normalizer, MinMaxScaler\n",
    "\n",
    "from sklearn.ensemble import RandomForestClassifier\n",
    "from sklearn.ensemble import AdaBoostClassifier\n",
    "from sklearn.tree import DecisionTreeClassifier\n",
    "from sklearn.linear_model import LogisticRegression\n",
    "from sklearn.neighbors import KNeighborsClassifier\n",
    "from sklearn.ensemble import GradientBoostingClassifier\n",
    "from sklearn.naive_bayes import GaussianNB\n",
    "import sklearn.linear_model as lm\n",
    "from sklearn.svm import SVC\n",
    "from sklearn.cluster import KMeans\n",
    "from sklearn.linear_model import Ridge\n"
   ]
  },
  {
   "cell_type": "markdown",
   "metadata": {},
   "source": [
    "# Pulsar stars detection: clustering, classification, ridge regression with mlflow"
   ]
  },
  {
   "cell_type": "code",
   "execution_count": 25,
   "metadata": {},
   "outputs": [],
   "source": [
    "mlflow.sklearn.autolog(log_input_examples=True, log_model_signatures=True)"
   ]
  },
  {
   "cell_type": "code",
   "execution_count": null,
   "metadata": {},
   "outputs": [],
   "source": [
    "# Load data\n",
    "pulsar = pd.read_csv('data/pulsar_stars.csv')\n",
    "\n",
    "# Get numeric labels for each of the string labels, to make them compatible with our model\n",
    "labels_to_class = {'Pulsar': 0, 'Not a Pulsar': 1}\n",
    "def get_class_ids(labels):\n",
    "    return np.array([labels_to_class[alabel] for alabel in labels])\n",
    "def get_named_labels(labels, numeric_labels):\n",
    "        return np.array([labels[num_label] for num_label in numeric_labels])\n",
    "\n",
    "# Remove target variables label (and class)\n",
    "features = list(set(pulsar.columns) - {'target_class'})\n",
    "X = pulsar[features]\n",
    "y = pulsar['target_class']\n",
    "labels = ['Pulsar', 'Not a Pulsar']\n",
    "X = X[:50000]\n",
    "y = y[:50000]\n",
    "\n",
    "scaler = MinMaxScaler(feature_range=(0,1))\n",
    "features_scaled = scaler.fit_transform(X)\n",
    "# Split into training and validation sets\n",
    "X_train, X_test, y_train, y_test = train_test_split(X, y, test_size=0.3, random_state=42, shuffle=False)\n",
    "\n",
    "# Clustering - predict particle clusters without labels\n",
    "# KMeans\n",
    "kmeans = KMeans(n_clusters=2, random_state=1)\n",
    "cluster_labels = kmeans.fit_predict(X_train)\n",
    "label_names = get_named_labels(labels, cluster_labels)\n",
    "\n",
    "# Classification - predict pulsar\n",
    "# Train a model, get predictions\n",
    "log = lm.LogisticRegression(random_state=4)\n",
    "knn = KNeighborsClassifier(n_neighbors=2)\n",
    "dtree = DecisionTreeClassifier(random_state=4)\n",
    "rtree = RandomForestClassifier(n_estimators=100, random_state=4)\n",
    "svm = SVC(random_state=4, probability=True)\n",
    "nb = GaussianNB()\n",
    "gbc = GradientBoostingClassifier()\n",
    "adaboost = AdaBoostClassifier(n_estimators=500, learning_rate=0.01, random_state=42,\n",
    "                             base_estimator=DecisionTreeClassifier(max_depth=8,\n",
    "                             min_samples_leaf=10, random_state=42))\n",
    "\n",
    "def model_algorithm(clf, X_train, y_train, X_test, y_test, name, labels, features):\n",
    "    clf.fit(X_train, y_train)\n",
    "    y_probas = clf.predict_proba(X_test)\n",
    "    y_pred = clf.predict(X_test)\n",
    "\n",
    "model_algorithm(log, X_train, y_train, X_test, y_test, 'LogisticRegression', labels, features)\n",
    "model_algorithm(knn, X_train, y_train, X_test, y_test, 'KNearestNeighbor', labels, features)\n",
    "model_algorithm(dtree, X_train, y_train, X_test, y_test, 'DecisionTree', labels, features)\n",
    "model_algorithm(rtree, X_train, y_train, X_test, y_test, 'RandomForest', labels, features)\n",
    "model_algorithm(svm, X_train, y_train, X_test, y_test, 'SVM', labels, features)\n",
    "model_algorithm(nb, X_train, y_train, X_test, y_test, 'NaiveBayes', labels, features)\n",
    "model_algorithm(adaboost, X_train, y_train, X_test, y_test, 'AdaBoost', labels, features)\n",
    "model_algorithm(gbc, X_train, y_train, X_test, y_test, 'GradientBoosting', labels, features)\n",
    "\n",
    "# Regression - TrackP - particle momentum\n",
    "features = list(set(pulsar.columns) - {' Mean of the integrated profile'})\n",
    "X = pulsar[features]\n",
    "y = pulsar[' Mean of the integrated profile']\n",
    "X = X[:10000]\n",
    "y = y[:10000]\n",
    "\n",
    "# Split into training and validation sets\n",
    "X_train, X_test, y_train, y_test = train_test_split(X, y, random_state=42, train_size=0.90, test_size=0.10)\n",
    "\n",
    "# Train a model, get predictions\n",
    "reg = Ridge()\n",
    "reg.fit(X_train, y_train)\n",
    "y_pred = reg.predict(X_test)"
   ]
  },
  {
   "cell_type": "markdown",
   "metadata": {},
   "source": [
    "# Titanic data: clustering, classification and regression"
   ]
  },
  {
   "cell_type": "code",
   "execution_count": null,
   "metadata": {},
   "outputs": [],
   "source": [
    "import glob\n",
    "import numpy as np\n",
    "import pandas as pd\n",
    "import seaborn as sns\n",
    "from tqdm import tqdm\n",
    "import warnings\n",
    "warnings.filterwarnings('ignore')\n",
    "\n",
    "from itertools import cycle, islice\n",
    "from sklearn.neighbors import BallTree, KDTree, DistanceMetric\n",
    "from sklearn.preprocessing import Normalizer, MinMaxScaler\n",
    "from sklearn.model_selection import StratifiedKFold, GridSearchCV, StratifiedShuffleSplit\n",
    "from sklearn.model_selection import train_test_split\n",
    "from sklearn.ensemble import RandomForestClassifier\n",
    "from sklearn.ensemble import AdaBoostClassifier\n",
    "from sklearn.tree import DecisionTreeClassifier\n",
    "from sklearn.linear_model import LogisticRegression\n",
    "from sklearn.neighbors import KNeighborsClassifier\n",
    "from sklearn.ensemble import GradientBoostingClassifier\n",
    "from sklearn.naive_bayes import GaussianNB\n",
    "import sklearn.linear_model as lm\n",
    "from sklearn.svm import SVC\n",
    "from sklearn.cluster import KMeans\n",
    "from sklearn.cluster import DBSCAN\n",
    "from sklearn.cluster import AgglomerativeClustering\n",
    "from sklearn.linear_model import LinearRegression\n",
    "from sklearn.linear_model import Ridge\n",
    "\n",
    "# Load data\n",
    "pulsar = pd.read_csv('/data/titanic-train.csv')\n",
    "\n",
    "# Get numeric labels for each of the string labels, to make them compatible with our model\n",
    "labels_to_class = {'Did not Survive': 0, 'Survived': 1}\n",
    "def get_class_ids(labels):\n",
    "    return np.array([labels_to_class[alabel] for alabel in labels])\n",
    "def get_named_labels(labels, numeric_labels):\n",
    "        return np.array([labels[num_label] for num_label in numeric_labels])\n",
    "\n",
    "# Remove target variables label (and class)\n",
    "features = list(set(pulsar.columns) - {'Survived','Name'})\n",
    "X = pulsar[features]\n",
    "y = pulsar['Survived']\n",
    "labels = ['Did not Survive', 'Survived']\n",
    "X = X[:50000]\n",
    "X = X.replace(\"\", np.nan, regex = True)\n",
    "y = y[:50000]\n",
    "\n",
    "scaler = MinMaxScaler(feature_range=(0,1))\n",
    "features_scaled = scaler.fit_transform(X)\n",
    "# Split into training and validation sets\n",
    "X_train, X_test, y_train, y_test = train_test_split(X, y, test_size=0.3, random_state=42, shuffle=False)\n",
    "\n",
    "# Clustering - predict particle clusters without labels\n",
    "# KMeans\n",
    "kmeans = KMeans(n_clusters=2, random_state=1)\n",
    "cluster_labels = kmeans.fit_predict(X_train)\n",
    "label_names = get_named_labels(labels, cluster_labels)\n",
    "\n",
    "# Classification - predict pulsar\n",
    "# Train a model, get predictions\n",
    "log = lm.LogisticRegression(random_state=4)\n",
    "knn = KNeighborsClassifier(n_neighbors=2)\n",
    "dtree = DecisionTreeClassifier(random_state=4)\n",
    "rtree = RandomForestClassifier(n_estimators=100, random_state=4)\n",
    "svm = SVC(random_state=4, probability=True)\n",
    "nb = GaussianNB()\n",
    "gbc = GradientBoostingClassifier()\n",
    "adaboost = AdaBoostClassifier(n_estimators=500, learning_rate=0.01, random_state=42,\n",
    "                             base_estimator=DecisionTreeClassifier(max_depth=8,\n",
    "                             min_samples_leaf=10, random_state=42))\n",
    "\n",
    "def model_algorithm(clf, X_train, y_train, X_test, y_test, name, labels, features):\n",
    "    clf.fit(X_train, y_train)\n",
    "    y_probas = clf.predict_proba(X_test)\n",
    "    y_pred = clf.predict(X_test)\n",
    "\n",
    "model_algorithm(log, X_train, y_train, X_test, y_test, 'LogisticRegression', labels, features)\n",
    "model_algorithm(knn, X_train, y_train, X_test, y_test, 'KNearestNeighbor', labels, features)\n",
    "model_algorithm(dtree, X_train, y_train, X_test, y_test, 'DecisionTree', labels, features)\n",
    "model_algorithm(rtree, X_train, y_train, X_test, y_test, 'RandomForest', labels, features)\n",
    "model_algorithm(svm, X_train, y_train, X_test, y_test, 'SVM', labels, features)\n",
    "model_algorithm(nb, X_train, y_train, X_test, y_test, 'NaiveBayes', labels, features)\n",
    "model_algorithm(adaboost, X_train, y_train, X_test, y_test, 'AdaBoost', labels, features)\n",
    "model_algorithm(gbc, X_train, y_train, X_test, y_test, 'GradientBoosting', labels, features)\n",
    "\n",
    "# Regression - TrackP - particle momentum\n",
    "features = list(set(pulsar.columns) - {'Age'})\n",
    "X = pulsar[features]\n",
    "y = pulsar['Age']\n",
    "X = X[:10000]\n",
    "y = y[:10000]\n",
    "\n",
    "# Split into training and validation sets\n",
    "X_train, X_test, y_train, y_test = train_test_split(X, y, random_state=42, train_size=0.90, test_size=0.10)\n",
    "\n",
    "# Train a model, get predictions\n",
    "reg = Ridge()\n",
    "reg.fit(X_train, y_train)\n",
    "y_pred = reg.predict(X_test)\n",
    "\n"
   ]
  },
  {
   "cell_type": "markdown",
   "metadata": {},
   "source": [
    "# Naive Bayes Classifier on tweets data"
   ]
  },
  {
   "cell_type": "code",
   "execution_count": null,
   "metadata": {},
   "outputs": [],
   "source": [
    "import pandas as pd\n",
    "import numpy as np\n",
    "import scikitplot\n",
    "        \n",
    "def plot(nb, X_test, y_test, y_probas, y_pred):\n",
    "        scikitplot.estimators.plot_learning_curve(nb, X_test, y_test)\n",
    "        scikitplot.metrics.plot_roc(y_test, y_probas)\n",
    "        scikitplot.metrics.plot_confusion_matrix(y_test, y_pred, labels=nb.classes_)\n",
    "        scikitplot.metrics.plot_precision_recall(y_test, y_probas)\n",
    "\n",
    "\n",
    "def tweets():\n",
    "\n",
    "    # Get a pandas DataFrame object of all the data in the csv file:\n",
    "    df = pd.read_csv('data/tweets.csv')\n",
    "\n",
    "    # Get pandas Series object of the \"tweet text\" column:\n",
    "    text = df['tweet_text']\n",
    "\n",
    "    # Get pandas Series object of the \"emotion\" column:\n",
    "    target = df['is_there_an_emotion_directed_at_a_brand_or_product']\n",
    "\n",
    "    # Remove the blank rows from the series:\n",
    "    target = target[pd.notnull(text)]\n",
    "    text = text[pd.notnull(text)]\n",
    "\n",
    "    # Perform feature extraction:\n",
    "    from sklearn.feature_extraction.text import CountVectorizer\n",
    "    count_vect = CountVectorizer()\n",
    "    count_vect.fit(text)\n",
    "    counts = count_vect.transform(text)\n",
    "\n",
    "\n",
    "    counts_train = counts[:6000]\n",
    "    target_train = target[:6000]\n",
    "    counts_test = counts[6000:]\n",
    "    target_test = target[6000:]\n",
    "\n",
    "\n",
    "    # Train with this data with a Naive Bayes classifier:\n",
    "    from sklearn.naive_bayes import MultinomialNB\n",
    "\n",
    "    nb = MultinomialNB()\n",
    "    nb.fit(counts, target)\n",
    "\n",
    "\n",
    "    X_test = counts_test\n",
    "    y_test = target_test\n",
    "    y_probas = nb.predict_proba(X_test)\n",
    "    y_pred = nb.predict(X_test)\n",
    "\n",
    "    #print(\"y\", y_probas.shape)\n",
    "    #plot(nb, X_test, y_test, y_probas, y_pred)"
   ]
  },
  {
   "cell_type": "markdown",
   "metadata": {},
   "source": [
    "# without mlflow"
   ]
  },
  {
   "cell_type": "code",
   "execution_count": null,
   "metadata": {},
   "outputs": [],
   "source": [
    "%%timeit -n 10 #-o\n",
    "mlflow.sklearn.autolog(disable=True)\n",
    "tweets()"
   ]
  },
  {
   "cell_type": "markdown",
   "metadata": {},
   "source": [
    "# with mlflow"
   ]
  },
  {
   "cell_type": "code",
   "execution_count": null,
   "metadata": {},
   "outputs": [],
   "source": [
    "%%timeit -n 10 #-o\n",
    "mlflow.sklearn.autolog(log_input_examples=True, log_model_signatures=True)\n",
    "tweets()"
   ]
  },
  {
   "cell_type": "code",
   "execution_count": null,
   "metadata": {},
   "outputs": [],
   "source": [
    "#!mlflow ui"
   ]
  }
 ],
 "metadata": {
  "kernelspec": {
   "display_name": "Python 3",
   "language": "python",
   "name": "python3"
  }
 },
 "nbformat": 4,
 "nbformat_minor": 4
}
