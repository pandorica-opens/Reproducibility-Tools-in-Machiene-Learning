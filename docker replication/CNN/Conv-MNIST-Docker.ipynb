{
 "cells": [
  {
   "cell_type": "markdown",
   "metadata": {},
   "source": [
    "# Docker replication\n",
    "\n",
    "In the recent experiment we found out, that it is possible to reproduce results on one laptop:\n",
    "    \n",
    "- with disabled GPU\n",
    "- with 5 points stated further\n",
    "\n",
    "\n",
    "However, it was not possible to reproduce results across the computers/systems. We have checked the randomization in train-test split, intialization of the weigths, tried Adagrad (deterministic) and confirmed, that with the same parameters and fixed seed the training process yeilds different training weights and accuracy results across two platforms(that are however in the same region, ~10**-3) "
   ]
  },
  {
   "cell_type": "markdown",
   "metadata": {},
   "source": [
    "With GPU it is not possible to get reproducible results, see keras documentation on\n",
    "[How can I obtain reproducible results using Keras during development?](https://keras.io/getting_started/faq/#how-can-i-obtain-reproducible-results-using-keras-during-development)\n",
    "\n",
    "\n",
    "Battling non-reproducibility at the code lvl is shown [here](https://wandb.ai/sayakpaul/reproducible-ml/reports/Reproducible-Models-with-W-B--Vmlldzo3ODMxNQ)"
   ]
  },
  {
   "cell_type": "markdown",
   "metadata": {},
   "source": [
    "### Random seeds + fixed (initial) weights\n",
    "\n",
    "There are two obvious solutions here -\n",
    "\n",
    "Fix the random number generator seed so that each time you try to generate random numbers, you get the exact same results. I suggest doing this for all the libraries (that support fixing seeds) you're using in your experiment. In NumPy and TensorFlow, it can be done like so -\n",
    "\n",
    "```python\n",
    "SEED = 666\n",
    "  import tensorflow as tf\n",
    "  tf.random.set_seed(SEED)\n",
    "  import numpy as np\n",
    "  np.random.seed(SEED)\n",
    "  ```\n",
    "\n",
    "It should be also noted that this code should stay at the top of your code i.e. before you start any experimentation.\n",
    "\n",
    "Another solution would be to serialize the weights of the network before you start to train it. That way, we would have access to the initial weights of the network, and we can use them to help us produce the same results every time we train the network (with the same configuration).\n",
    "\n",
    "Now, of course, there are other parts of a neural network that can introduce non-determinism – **dropout layers, sampling layers (remember VAEs?), latent vectors to name a few**. The non-determinism they introduce is of the good kind, as it often helps neural networks perform better. We can run our training data through these layers a number of times and measure the average deviation in each of the results. If there isn't anything wrong, the deviations won't be very high."
   ]
  },
  {
   "cell_type": "code",
   "execution_count": 4,
   "metadata": {},
   "outputs": [
    {
     "name": "stdout",
     "output_type": "stream",
     "text": [
      "Defaulting to user installation because normal site-packages is not writeable\n",
      "Requirement already up-to-date: wandb in /home/test_user/.local/lib/python3.7/site-packages (0.10.18)\n",
      "Requirement already satisfied, skipping upgrade: shortuuid>=0.5.0 in /home/test_user/.local/lib/python3.7/site-packages (from wandb) (1.0.1)\n",
      "Requirement already satisfied, skipping upgrade: psutil>=5.0.0 in /opt/conda/lib/python3.7/site-packages (from wandb) (5.7.2)\n",
      "Requirement already satisfied, skipping upgrade: protobuf>=3.12.0 in /home/test_user/.local/lib/python3.7/site-packages (from wandb) (3.14.0)\n",
      "Requirement already satisfied, skipping upgrade: pathtools in /home/test_user/.local/lib/python3.7/site-packages (from wandb) (0.1.2)\n",
      "Requirement already satisfied, skipping upgrade: subprocess32>=3.5.3 in /home/test_user/.local/lib/python3.7/site-packages (from wandb) (3.5.4)\n",
      "Requirement already satisfied, skipping upgrade: Click>=7.0 in /opt/conda/lib/python3.7/site-packages (from wandb) (7.1.2)\n",
      "Requirement already satisfied, skipping upgrade: GitPython>=1.0.0 in /home/test_user/.local/lib/python3.7/site-packages (from wandb) (3.1.13)\n",
      "Requirement already satisfied, skipping upgrade: promise<3,>=2.0 in /home/test_user/.local/lib/python3.7/site-packages (from wandb) (2.3)\n",
      "Requirement already satisfied, skipping upgrade: sentry-sdk>=0.4.0 in /home/test_user/.local/lib/python3.7/site-packages (from wandb) (0.19.5)\n",
      "Requirement already satisfied, skipping upgrade: configparser>=3.8.1 in /home/test_user/.local/lib/python3.7/site-packages (from wandb) (5.0.1)\n",
      "Requirement already satisfied, skipping upgrade: requests<3,>=2.0.0 in /opt/conda/lib/python3.7/site-packages (from wandb) (2.24.0)\n",
      "Requirement already satisfied, skipping upgrade: PyYAML in /opt/conda/lib/python3.7/site-packages (from wandb) (5.3.1)\n",
      "Requirement already satisfied, skipping upgrade: six>=1.13.0 in /opt/conda/lib/python3.7/site-packages (from wandb) (1.15.0)\n",
      "Requirement already satisfied, skipping upgrade: docker-pycreds>=0.4.0 in /home/test_user/.local/lib/python3.7/site-packages (from wandb) (0.4.0)\n",
      "Requirement already satisfied, skipping upgrade: python-dateutil>=2.6.1 in /opt/conda/lib/python3.7/site-packages (from wandb) (2.8.1)\n",
      "Requirement already satisfied, skipping upgrade: gitdb<5,>=4.0.1 in /home/test_user/.local/lib/python3.7/site-packages (from GitPython>=1.0.0->wandb) (4.0.5)\n",
      "Requirement already satisfied, skipping upgrade: certifi in /opt/conda/lib/python3.7/site-packages (from sentry-sdk>=0.4.0->wandb) (2020.6.20)\n",
      "Requirement already satisfied, skipping upgrade: urllib3>=1.10.0 in /opt/conda/lib/python3.7/site-packages (from sentry-sdk>=0.4.0->wandb) (1.25.10)\n",
      "Requirement already satisfied, skipping upgrade: idna<3,>=2.5 in /opt/conda/lib/python3.7/site-packages (from requests<3,>=2.0.0->wandb) (2.10)\n",
      "Requirement already satisfied, skipping upgrade: chardet<4,>=3.0.2 in /opt/conda/lib/python3.7/site-packages (from requests<3,>=2.0.0->wandb) (3.0.4)\n",
      "Requirement already satisfied, skipping upgrade: smmap<4,>=3.0.1 in /home/test_user/.local/lib/python3.7/site-packages (from gitdb<5,>=4.0.1->GitPython>=1.0.0->wandb) (3.0.5)\n",
      "Defaulting to user installation because normal site-packages is not writeable\n",
      "Collecting tensorflow\n",
      "  Downloading tensorflow-2.4.1-cp37-cp37m-manylinux2010_x86_64.whl (394.3 MB)\n",
      "\u001b[K     |████████████████████████████████| 394.3 MB 6.1 kB/s  eta 0:00:01  |                                | 788 kB 4.8 MB/s eta 0:01:22     |▍                               | 4.4 MB 4.8 MB/s eta 0:01:21     |▍                               | 4.5 MB 4.8 MB/s eta 0:01:21     |▍                               | 5.0 MB 4.8 MB/s eta 0:01:21     |▍                               | 5.4 MB 4.8 MB/s eta 0:01:21     |▌                               | 6.1 MB 4.8 MB/s eta 0:01:21     |▌                               | 6.6 MB 4.8 MB/s eta 0:01:21     |▋                               | 7.2 MB 3.6 MB/s eta 0:01:47     |█▏                              | 14.0 MB 3.6 MB/s eta 0:01:45     |█▎                              | 15.5 MB 5.7 MB/s eta 0:01:07     |█▍                              | 17.0 MB 5.7 MB/s eta 0:01:06     |█▌                              | 18.5 MB 5.7 MB/s eta 0:01:06     |██▋                             | 32.4 MB 11.3 MB/s eta 0:00:32     |██▉                             | 35.6 MB 34.3 MB/s eta 0:00:11     |███▌                            | 42.5 MB 34.3 MB/s eta 0:00:11     |███▋                            | 43.9 MB 3.9 MB/s eta 0:01:30     |███▉                            | 46.8 MB 3.9 MB/s eta 0:01:29     |████▏                           | 50.7 MB 3.9 MB/s eta 0:01:28     |████▌                           | 55.2 MB 11.8 MB/s eta 0:00:29     |████▌                           | 55.4 MB 11.8 MB/s eta 0:00:29     |████▊                           | 58.0 MB 11.8 MB/s eta 0:00:29     |█████                           | 60.3 MB 11.8 MB/s eta 0:00:29     |█████                           | 61.7 MB 2.3 MB/s eta 0:02:27     |█████▌                          | 68.0 MB 2.3 MB/s eta 0:02:24     |███████▍                        | 91.0 MB 21.4 MB/s eta 0:00:15     |████████▍                       | 102.8 MB 17.9 MB/s eta 0:00:17     |█████████▉                      | 120.9 MB 1.9 MB/s eta 0:02:24     |██████████▎                     | 126.1 MB 2.1 MB/s eta 0:02:07     |██████████▊                     | 131.7 MB 2.1 MB/s eta 0:02:05     |████████████                    | 149.0 MB 3.7 MB/s eta 0:01:06     |████████████▊                   | 156.6 MB 3.5 MB/s eta 0:01:09     |█████████████▌                  | 166.2 MB 10.4 MB/s eta 0:00:23     |██████████████▏                 | 174.9 MB 4.0 MB/s eta 0:00:55     |███████████████▌                | 190.6 MB 23.1 MB/s eta 0:00:09     |███████████████▊                | 193.6 MB 1.1 MB/s eta 0:03:04     |███████████████▊                | 194.2 MB 1.1 MB/s eta 0:03:03    |████████████████                | 198.4 MB 3.0 MB/s eta 0:01:06     |████████████████▋               | 204.1 MB 3.0 MB/s eta 0:01:05     |████████████████▋               | 204.5 MB 3.0 MB/s eta 0:01:04     |████████████████▋               | 205.0 MB 3.0 MB/s eta 0:01:04     |█████████████████               | 209.7 MB 11.6 MB/s eta 0:00:16     |█████████████████▎              | 212.9 MB 11.6 MB/s eta 0:00:16     |██████████████████▎             | 224.9 MB 15.5 MB/s eta 0:00:11     |████████████████████▏           | 249.0 MB 8.2 MB/s eta 0:00:18     |████████████████████▍           | 251.0 MB 8.2 MB/s eta 0:00:18     |█████████████████████▉          | 269.4 MB 7.6 MB/s eta 0:00:17     |██████████████████████          | 270.6 MB 7.6 MB/s eta 0:00:17     |██████████████████████▋         | 278.0 MB 9.1 MB/s eta 0:00:13     |██████████████████████▋         | 279.3 MB 9.1 MB/s eta 0:00:13     |███████████████████████         | 283.4 MB 7.5 MB/s eta 0:00:15     |███████████████████████▎        | 287.2 MB 7.5 MB/s eta 0:00:15     |████████████████████████▊       | 304.0 MB 25.1 MB/s eta 0:00:04     |█████████████████████████▎      | 311.5 MB 9.5 MB/s eta 0:00:09     |█████████████████████████▎      | 311.8 MB 9.5 MB/s eta 0:00:09     |█████████████████████████▍      | 312.9 MB 9.5 MB/s eta 0:00:09     |█████████████████████████▉      | 318.5 MB 9.5 MB/s eta 0:00:08     |██████████████████████████▌     | 327.1 MB 5.4 MB/s eta 0:00:13     |███████████████████████████     | 332.8 MB 11.8 MB/s eta 0:00:06     |███████████████████████████▎    | 336.5 MB 11.8 MB/s eta 0:00:05��████████▌    | 338.6 MB 5.9 MB/s eta 0:00:10     |███████████████████████████▊    | 341.1 MB 5.9 MB/s eta 0:00:09     |████████████████████████████    | 344.5 MB 5.9 MB/s eta 0:00:09     |████████████████████████████▏   | 346.5 MB 5.5 MB/s eta 0:00:09     |████████████████████████████▌   | 351.9 MB 9.9 MB/s eta 0:00:05     |█████████████████████████████   | 358.0 MB 3.2 MB/s eta 0:00:12     |█████████████████████████████▎  | 360.3 MB 3.2 MB/s eta 0:00:11     |█████████████████████████████▍  | 362.2 MB 3.2 MB/s eta 0:00:11     |█████████████████████████████▋  | 365.4 MB 3.9 MB/s eta 0:00:08     |███████████████████████████████ | 381.0 MB 9.3 MB/s eta 0:00:02     |███████████████████████████████▏| 383.4 MB 9.3 MB/s eta 0:00:02     |███████████████████████████████▏| 384.4 MB 9.3 MB/s eta 0:00:02�████████████████▍| 386.5 MB 9.3 MB/s eta 0:00:01     |███████████████████████████████▌| 387.6 MB 10.6 MB/s eta 0:00:01     |███████████████████████████████▋| 389.1 MB 10.6 MB/s eta 0:00:01     |███████████████████████████████▊| 391.4 MB 10.6 MB/s eta 0:00:01\n",
      "\u001b[?25hCollecting termcolor~=1.1.0\n",
      "  Downloading termcolor-1.1.0.tar.gz (3.9 kB)\n",
      "Requirement already satisfied: wheel~=0.35 in /opt/conda/lib/python3.7/site-packages (from tensorflow) (0.35.1)\n",
      "Collecting numpy~=1.19.2\n",
      "  Downloading numpy-1.19.5-cp37-cp37m-manylinux2010_x86_64.whl (14.8 MB)\n",
      "\u001b[K     |████████████████████████████████| 14.8 MB 10.5 MB/s eta 0:00:01    |███▌                            | 1.6 MB 14.0 MB/s eta 0:00:01\n",
      "\u001b[?25hCollecting gast==0.3.3\n",
      "  Using cached gast-0.3.3-py2.py3-none-any.whl (9.7 kB)\n",
      "Requirement already satisfied: six~=1.15.0 in /opt/conda/lib/python3.7/site-packages (from tensorflow) (1.15.0)\n",
      "Collecting wrapt~=1.12.1\n",
      "  Downloading wrapt-1.12.1.tar.gz (27 kB)\n",
      "Collecting google-pasta~=0.2\n",
      "  Using cached google_pasta-0.2.0-py3-none-any.whl (57 kB)\n",
      "Collecting flatbuffers~=1.12.0\n",
      "  Using cached flatbuffers-1.12-py2.py3-none-any.whl (15 kB)\n",
      "Requirement already satisfied: protobuf>=3.9.2 in /home/test_user/.local/lib/python3.7/site-packages (from tensorflow) (3.14.0)\n",
      "Collecting absl-py~=0.10\n",
      "  Using cached absl_py-0.11.0-py3-none-any.whl (127 kB)\n",
      "Collecting astunparse~=1.6.3\n",
      "  Using cached astunparse-1.6.3-py2.py3-none-any.whl (12 kB)\n",
      "Collecting typing-extensions~=3.7.4\n",
      "  Downloading typing_extensions-3.7.4.3-py3-none-any.whl (22 kB)\n",
      "Collecting h5py~=2.10.0\n",
      "  Using cached h5py-2.10.0-cp37-cp37m-manylinux1_x86_64.whl (2.9 MB)\n",
      "Collecting grpcio~=1.32.0\n",
      "  Using cached grpcio-1.32.0-cp37-cp37m-manylinux2014_x86_64.whl (3.8 MB)\n",
      "Collecting tensorflow-estimator<2.5.0,>=2.4.0\n",
      "  Downloading tensorflow_estimator-2.4.0-py2.py3-none-any.whl (462 kB)\n",
      "\u001b[K     |████████████████████████████████| 462 kB 13.5 MB/s eta 0:00:01\n",
      "\u001b[?25hCollecting tensorboard~=2.4\n",
      "  Downloading tensorboard-2.4.1-py3-none-any.whl (10.6 MB)\n",
      "\u001b[K     |████████████████████████████████| 10.6 MB 6.0 MB/s eta 0:00:01     |██████████▉                     | 3.6 MB 14.7 MB/s eta 0:00:01     |████████████▋                   | 4.2 MB 14.7 MB/s eta 0:00:01     |█████████████████               | 5.6 MB 14.7 MB/s eta 0:00:01     |██████████████████████▍         | 7.4 MB 14.7 MB/s eta 0:00:01     |█████████████████████████▎      | 8.4 MB 14.7 MB/s eta 0:00:01\n",
      "\u001b[?25hCollecting opt-einsum~=3.3.0\n",
      "  Downloading opt_einsum-3.3.0-py3-none-any.whl (65 kB)\n",
      "\u001b[K     |████████████████████████████████| 65 kB 3.8 MB/s  eta 0:00:01\n",
      "\u001b[?25hCollecting keras-preprocessing~=1.1.2\n",
      "  Using cached Keras_Preprocessing-1.1.2-py2.py3-none-any.whl (42 kB)\n",
      "Collecting google-auth-oauthlib<0.5,>=0.4.1\n",
      "  Using cached google_auth_oauthlib-0.4.2-py2.py3-none-any.whl (18 kB)\n",
      "Collecting google-auth<2,>=1.6.3\n",
      "  Downloading google_auth-1.25.0-py2.py3-none-any.whl (116 kB)\n",
      "\u001b[K     |████████████████████████████████| 116 kB 35.8 MB/s eta 0:00:01\n",
      "\u001b[?25hCollecting tensorboard-plugin-wit>=1.6.0\n",
      "  Downloading tensorboard_plugin_wit-1.8.0-py3-none-any.whl (781 kB)\n",
      "\u001b[K     |████████████████████████████████| 781 kB 6.3 MB/s eta 0:00:01\n",
      "\u001b[?25hCollecting werkzeug>=0.11.15\n",
      "  Downloading Werkzeug-1.0.1-py2.py3-none-any.whl (298 kB)\n",
      "\u001b[K     |████████████████████████████████| 298 kB 6.1 MB/s eta 0:00:01\n",
      "\u001b[?25hRequirement already satisfied: requests<3,>=2.21.0 in /opt/conda/lib/python3.7/site-packages (from tensorboard~=2.4->tensorflow) (2.24.0)\n",
      "Requirement already satisfied: setuptools>=41.0.0 in /opt/conda/lib/python3.7/site-packages (from tensorboard~=2.4->tensorflow) (50.3.0.post20201006)\n",
      "Collecting markdown>=2.6.8\n",
      "  Using cached Markdown-3.3.3-py3-none-any.whl (96 kB)\n",
      "Collecting requests-oauthlib>=0.7.0\n",
      "  Downloading requests_oauthlib-1.3.0-py2.py3-none-any.whl (23 kB)\n",
      "Collecting cachetools<5.0,>=2.0.0\n",
      "  Downloading cachetools-4.2.1-py3-none-any.whl (12 kB)\n",
      "Collecting rsa<5,>=3.1.4; python_version >= \"3.6\"\n",
      "  Downloading rsa-4.7-py3-none-any.whl (34 kB)\n",
      "Collecting pyasn1-modules>=0.2.1\n",
      "  Downloading pyasn1_modules-0.2.8-py2.py3-none-any.whl (155 kB)\n",
      "\u001b[K     |████████████████████████████████| 155 kB 11.8 MB/s eta 0:00:01\n",
      "\u001b[?25hRequirement already satisfied: idna<3,>=2.5 in /opt/conda/lib/python3.7/site-packages (from requests<3,>=2.21.0->tensorboard~=2.4->tensorflow) (2.10)\n",
      "Requirement already satisfied: chardet<4,>=3.0.2 in /opt/conda/lib/python3.7/site-packages (from requests<3,>=2.21.0->tensorboard~=2.4->tensorflow) (3.0.4)\n",
      "Requirement already satisfied: certifi>=2017.4.17 in /opt/conda/lib/python3.7/site-packages (from requests<3,>=2.21.0->tensorboard~=2.4->tensorflow) (2020.6.20)\n",
      "Requirement already satisfied: urllib3!=1.25.0,!=1.25.1,<1.26,>=1.21.1 in /opt/conda/lib/python3.7/site-packages (from requests<3,>=2.21.0->tensorboard~=2.4->tensorflow) (1.25.10)\n",
      "Requirement already satisfied: importlib-metadata; python_version < \"3.8\" in /opt/conda/lib/python3.7/site-packages (from markdown>=2.6.8->tensorboard~=2.4->tensorflow) (2.0.0)\n",
      "Collecting oauthlib>=3.0.0\n",
      "  Downloading oauthlib-3.1.0-py2.py3-none-any.whl (147 kB)\n",
      "\u001b[K     |████████████████████████████████| 147 kB 7.3 MB/s eta 0:00:01\n",
      "\u001b[?25hCollecting pyasn1>=0.1.3\n",
      "  Downloading pyasn1-0.4.8-py2.py3-none-any.whl (77 kB)\n",
      "\u001b[K     |████████████████████████████████| 77 kB 7.2 MB/s  eta 0:00:01\n",
      "\u001b[?25hRequirement already satisfied: zipp>=0.5 in /opt/conda/lib/python3.7/site-packages (from importlib-metadata; python_version < \"3.8\"->markdown>=2.6.8->tensorboard~=2.4->tensorflow) (3.3.0)\n",
      "Building wheels for collected packages: termcolor, wrapt\n",
      "  Building wheel for termcolor (setup.py) ... \u001b[?25ldone\n",
      "\u001b[?25h  Created wheel for termcolor: filename=termcolor-1.1.0-py3-none-any.whl size=4830 sha256=86f3d107efbb119442292d24ba2f73fc226b1845b655db02a7d856b97695e078\n",
      "  Stored in directory: /home/test_user/.cache/pip/wheels/3f/e3/ec/8a8336ff196023622fbcb36de0c5a5c218cbb24111d1d4c7f2\n",
      "  Building wheel for wrapt (setup.py) ... \u001b[?25ldone\n",
      "\u001b[?25h  Created wheel for wrapt: filename=wrapt-1.12.1-cp37-cp37m-linux_x86_64.whl size=76404 sha256=51ac3e08cd8b5fa8de293cc356fbcfb86d42a288f536fef374d07006b3115658\n",
      "  Stored in directory: /home/test_user/.cache/pip/wheels/62/76/4c/aa25851149f3f6d9785f6c869387ad82b3fd37582fa8147ac6\n",
      "Successfully built termcolor wrapt\n",
      "Installing collected packages: termcolor, numpy, gast, wrapt, google-pasta, flatbuffers, absl-py, astunparse, typing-extensions, h5py, grpcio, tensorflow-estimator, cachetools, pyasn1, rsa, pyasn1-modules, google-auth, oauthlib, requests-oauthlib, google-auth-oauthlib, tensorboard-plugin-wit, werkzeug, markdown, tensorboard, opt-einsum, keras-preprocessing, tensorflow\n",
      "\u001b[33m  WARNING: The scripts f2py, f2py3 and f2py3.7 are installed in '/home/test_user/.local/bin' which is not on PATH.\n",
      "  Consider adding this directory to PATH or, if you prefer to suppress this warning, use --no-warn-script-location.\u001b[0m\n",
      "\u001b[33m  WARNING: The scripts pyrsa-decrypt, pyrsa-encrypt, pyrsa-keygen, pyrsa-priv2pub, pyrsa-sign and pyrsa-verify are installed in '/home/test_user/.local/bin' which is not on PATH.\n",
      "  Consider adding this directory to PATH or, if you prefer to suppress this warning, use --no-warn-script-location.\u001b[0m\n",
      "\u001b[33m  WARNING: The script google-oauthlib-tool is installed in '/home/test_user/.local/bin' which is not on PATH.\n",
      "  Consider adding this directory to PATH or, if you prefer to suppress this warning, use --no-warn-script-location.\u001b[0m\n",
      "\u001b[33m  WARNING: The script markdown_py is installed in '/home/test_user/.local/bin' which is not on PATH.\n",
      "  Consider adding this directory to PATH or, if you prefer to suppress this warning, use --no-warn-script-location.\u001b[0m\n",
      "\u001b[33m  WARNING: The script tensorboard is installed in '/home/test_user/.local/bin' which is not on PATH.\n",
      "  Consider adding this directory to PATH or, if you prefer to suppress this warning, use --no-warn-script-location.\u001b[0m\n",
      "\u001b[33m  WARNING: The scripts estimator_ckpt_converter, import_pb_to_tensorboard, saved_model_cli, tensorboard, tf_upgrade_v2, tflite_convert, toco and toco_from_protos are installed in '/home/test_user/.local/bin' which is not on PATH.\n",
      "  Consider adding this directory to PATH or, if you prefer to suppress this warning, use --no-warn-script-location.\u001b[0m\n",
      "Successfully installed absl-py-0.11.0 astunparse-1.6.3 cachetools-4.2.1 flatbuffers-1.12 gast-0.3.3 google-auth-1.25.0 google-auth-oauthlib-0.4.2 google-pasta-0.2.0 grpcio-1.32.0 h5py-2.10.0 keras-preprocessing-1.1.2 markdown-3.3.3 numpy-1.19.5 oauthlib-3.1.0 opt-einsum-3.3.0 pyasn1-0.4.8 pyasn1-modules-0.2.8 requests-oauthlib-1.3.0 rsa-4.7 tensorboard-2.4.1 tensorboard-plugin-wit-1.8.0 tensorflow-2.4.1 tensorflow-estimator-2.4.0 termcolor-1.1.0 typing-extensions-3.7.4.3 werkzeug-1.0.1 wrapt-1.12.1\n"
     ]
    }
   ],
   "source": [
    "! pip install --upgrade wandb\n",
    "! pip install tensorflow"
   ]
  },
  {
   "cell_type": "code",
   "execution_count": 5,
   "metadata": {},
   "outputs": [
    {
     "data": {
      "text/html": [
       "Finishing last run (ID:ci0hymqv) before initializing another..."
      ],
      "text/plain": [
       "<IPython.core.display.HTML object>"
      ]
     },
     "metadata": {},
     "output_type": "display_data"
    },
    {
     "data": {
      "text/html": [
       "<br/>Waiting for W&B process to finish, PID 237<br/>Program ended successfully."
      ],
      "text/plain": [
       "<IPython.core.display.HTML object>"
      ]
     },
     "metadata": {},
     "output_type": "display_data"
    },
    {
     "data": {
      "application/vnd.jupyter.widget-view+json": {
       "model_id": "0bd4c2717a934811b8f78606d0d417a0",
       "version_major": 2,
       "version_minor": 0
      },
      "text/plain": [
       "VBox(children=(Label(value=' 0.00MB of 0.00MB uploaded (0.00MB deduped)\\r'), FloatProgress(value=1.0, max=1.0)…"
      ]
     },
     "metadata": {},
     "output_type": "display_data"
    },
    {
     "data": {
      "text/html": [
       "Find user logs for this run at: <code>/home/test_user/CNN/wandb/run-20210209_185119-ci0hymqv/logs/debug.log</code>"
      ],
      "text/plain": [
       "<IPython.core.display.HTML object>"
      ]
     },
     "metadata": {},
     "output_type": "display_data"
    },
    {
     "data": {
      "text/html": [
       "Find internal logs for this run at: <code>/home/test_user/CNN/wandb/run-20210209_185119-ci0hymqv/logs/debug-internal.log</code>"
      ],
      "text/plain": [
       "<IPython.core.display.HTML object>"
      ]
     },
     "metadata": {},
     "output_type": "display_data"
    },
    {
     "data": {
      "text/html": [
       "Synced 5 W&B file(s), 0 media file(s), 0 artifact file(s) and 1 other file(s)"
      ],
      "text/plain": [
       "<IPython.core.display.HTML object>"
      ]
     },
     "metadata": {},
     "output_type": "display_data"
    },
    {
     "data": {
      "text/html": [
       "\n",
       "                    <br/>Synced <strong style=\"color:#cdcd00\">winter-thunder-5</strong>: <a href=\"https://wandb.ai/s6hakond/cnn/runs/ci0hymqv\" target=\"_blank\">https://wandb.ai/s6hakond/cnn/runs/ci0hymqv</a><br/>\n",
       "                "
      ],
      "text/plain": [
       "<IPython.core.display.HTML object>"
      ]
     },
     "metadata": {},
     "output_type": "display_data"
    },
    {
     "data": {
      "text/html": [
       "...Successfully finished last run (ID:ci0hymqv). Initializing new run:<br/><br/>"
      ],
      "text/plain": [
       "<IPython.core.display.HTML object>"
      ]
     },
     "metadata": {},
     "output_type": "display_data"
    },
    {
     "data": {
      "text/html": [
       "\n",
       "                Tracking run with wandb version 0.10.18<br/>\n",
       "                Syncing run <strong style=\"color:#cdcd00\">swift-oath-6</strong> to <a href=\"https://wandb.ai\" target=\"_blank\">Weights & Biases</a> <a href=\"https://docs.wandb.com/integrations/jupyter.html\" target=\"_blank\">(Documentation)</a>.<br/>\n",
       "                Project page: <a href=\"https://wandb.ai/s6hakond/cnn\" target=\"_blank\">https://wandb.ai/s6hakond/cnn</a><br/>\n",
       "                Run page: <a href=\"https://wandb.ai/s6hakond/cnn/runs/1saaclry\" target=\"_blank\">https://wandb.ai/s6hakond/cnn/runs/1saaclry</a><br/>\n",
       "                Run data is saved locally in <code>/home/test_user/CNN/wandb/run-20210209_185407-1saaclry</code><br/><br/>\n",
       "            "
      ],
      "text/plain": [
       "<IPython.core.display.HTML object>"
      ]
     },
     "metadata": {},
     "output_type": "display_data"
    },
    {
     "data": {
      "text/html": [
       "<h1>Run(1saaclry)</h1><iframe src=\"https://wandb.ai/s6hakond/cnn/runs/1saaclry\" style=\"border:none;width:100%;height:400px\"></iframe>"
      ],
      "text/plain": [
       "<wandb.sdk.wandb_run.Run at 0x7fc048c64bd0>"
      ]
     },
     "execution_count": 5,
     "metadata": {},
     "output_type": "execute_result"
    }
   ],
   "source": [
    "import wandb\n",
    "\n",
    "# initialize wandb run\n",
    "#wandb.init(mode='offline')\n",
    "wandb.init(project='cnn')"
   ]
  },
  {
   "cell_type": "markdown",
   "metadata": {},
   "source": [
    "Set environment variable PYTHONHASHSEED in terminal - didn't work in Jupyter otherwise\n",
    "\n",
    "$ export PYTHONHASHSEED=0"
   ]
  },
  {
   "cell_type": "code",
   "execution_count": 25,
   "metadata": {},
   "outputs": [
    {
     "name": "stdout",
     "output_type": "stream",
     "text": [
      "env: 'PYTHONHASHSEED'=str(seed_value)\n"
     ]
    }
   ],
   "source": [
    "seed_value=0\n",
    "# 1. Set `PYTHONHASHSEED` environment variable at a fixed value\n",
    "import os\n",
    "os.environ['PYTHONHASHSEED']=str(seed_value)\n",
    "%env 'PYTHONHASHSEED'=str(seed_value)\n",
    "# 2. Set `python` built-in pseudo-random generator at a fixed value\n",
    "import random\n",
    "random.seed(seed_value)\n",
    "\n",
    "# 3. Set `numpy` pseudo-random generator at a fixed value\n",
    "import numpy as np\n",
    "np.random.seed(seed_value)\n",
    "\n",
    "# 4. Set the `tensorflow` pseudo-random generator at a fixed value\n",
    "import tensorflow as tf\n",
    "tf.random.set_seed(seed_value)\n",
    "# for later versions: \n",
    "# tf.compat.v1.set_random_seed(seed_value)\n",
    "\n",
    "# 5. Configure a new global `tensorflow` session\n",
    "from tensorflow.compat.v1.keras import backend as K\n",
    "session_conf = tf.compat.v1.ConfigProto(intra_op_parallelism_threads=1, inter_op_parallelism_threads=1)\n",
    "sess = tf.compat.v1.Session(graph=tf.compat.v1.get_default_graph(), config=session_conf)\n",
    "K.set_session(sess)\n",
    "# for later versions:\n",
    "# session_conf = tf.compat.v1.ConfigProto(intra_op_parallelism_threads=1, inter_op_parallelism_threads=1)\n",
    "# sess = tf.compat.v1.Session(graph=tf.compat.v1.get_default_graph(), config=session_conf)\n",
    "# tf.compat.v1.keras.backend.set_session(sess)"
   ]
  },
  {
   "cell_type": "code",
   "execution_count": 26,
   "metadata": {},
   "outputs": [],
   "source": [
    "import tensorflow\n",
    "from tensorflow.keras.datasets import mnist\n",
    "from tensorflow.keras.models import Sequential\n",
    "from tensorflow.keras.layers import Dense, Dropout, Flatten\n",
    "from tensorflow.keras.layers import Conv2D, MaxPooling2D\n",
    "import sys"
   ]
  },
  {
   "cell_type": "code",
   "execution_count": 27,
   "metadata": {},
   "outputs": [],
   "source": [
    "# Model configuration\n",
    "img_width, img_height = 28, 28\n",
    "no_classes = 10\n",
    "verbosity = 1\n",
    "batch_size = 250\n",
    "no_epochs = 1\n",
    "validation_split = 0.2\n",
    "convKernelSize = 3\n",
    "activation = 'relu'\n",
    "dropout = 0.25\n",
    "class_weight = None\n",
    "epsilon = 1e-07\n",
    "initial_epoch=0\n",
    "learning_rate=0.001\n",
    "max_queue_size=10\n",
    "#num_layers = 0 can't be set in guild.ai?\n",
    "optimizer_name = 'Adam'\n",
    "sample_weight=None\n",
    "shuffle=True\n",
    "steps_per_epoch = None\n",
    "use_multiprocessing=False\n",
    "valdiation_batch_size=None\n",
    "validation_freq=1\n",
    "validation_split=0.2\n",
    "validation_steps=None\n",
    "workers=2\n",
    "\n",
    "wandb.config = {\n",
    "    'img_width' : 28,\n",
    "    'img_height' : 28,\n",
    "    'no_classes' : 10,\n",
    "    'verbosity' : 1,\n",
    "    'batch_size' : 250,\n",
    "    'no_epochs' : 1,\n",
    "    'validation_split' : 0.2,\n",
    "    'convKernelSize' : 3,\n",
    "    'activation' : 'relu',\n",
    "    'dropout' : 0.25,\n",
    "    'class_weight' : None,\n",
    "    'epsilon' : 1e-07,\n",
    "    'initial_epoch':0,\n",
    "    'learning_rate':0.001,\n",
    "    'max_queue_size':10,\n",
    "    #num_layers = 0 can't be set in guild.ai?\n",
    "    'optimizer_name' : 'Adam',\n",
    "    'sample_weight':None,\n",
    "    'shuffle':True,\n",
    "    'steps_per_epoch' : None,\n",
    "    'use_multiprocessing':False,\n",
    "    'valdiation_batch_size':None,\n",
    "    'validation_freq':1,\n",
    "    'validation_split':0.2,\n",
    "    'validation_steps':None,\n",
    "    'workers':2\n",
    "}"
   ]
  },
  {
   "cell_type": "code",
   "execution_count": 28,
   "metadata": {},
   "outputs": [
    {
     "name": "stdout",
     "output_type": "stream",
     "text": [
      "{'img_width': 28, 'img_height': 28, 'no_classes': 10, 'verbosity': 1, 'batch_size': 250, 'no_epochs': 1, 'validation_split': 0.2, 'convKernelSize': 3, 'activation': 'relu', 'dropout': 0.25, 'class_weight': None, 'epsilon': 1e-07, 'initial_epoch': 0, 'learning_rate': 0.001, 'max_queue_size': 10, 'optimizer_name': 'Adam', 'sample_weight': None, 'shuffle': True, 'steps_per_epoch': None, 'use_multiprocessing': False, 'valdiation_batch_size': None, 'validation_freq': 1, 'validation_steps': None, 'workers': 2}\n"
     ]
    }
   ],
   "source": [
    "print(wandb.config)"
   ]
  },
  {
   "cell_type": "code",
   "execution_count": 29,
   "metadata": {},
   "outputs": [],
   "source": [
    "###wandb.config.update({'img_height':'28'})"
   ]
  },
  {
   "cell_type": "code",
   "execution_count": 30,
   "metadata": {},
   "outputs": [],
   "source": [
    "# Load MNIST dataset\n",
    "# deterministic with np.seed\n",
    "(input_train, target_train), (input_test, target_test) = mnist.load_data()\n",
    "target_train, target_test\n",
    "wandb.config.update({'input_train':input_train, 'target_train':target_train, 'input_test':input_test, 'target_test':target_test})"
   ]
  },
  {
   "cell_type": "code",
   "execution_count": 31,
   "metadata": {},
   "outputs": [
    {
     "data": {
      "text/plain": [
       "{'img_width': 28,\n",
       " 'img_height': 28,\n",
       " 'no_classes': 10,\n",
       " 'verbosity': 1,\n",
       " 'batch_size': 250,\n",
       " 'no_epochs': 1,\n",
       " 'validation_split': 0.2,\n",
       " 'convKernelSize': 3,\n",
       " 'activation': 'relu',\n",
       " 'dropout': 0.25,\n",
       " 'class_weight': None,\n",
       " 'epsilon': 1e-07,\n",
       " 'initial_epoch': 0,\n",
       " 'learning_rate': 0.001,\n",
       " 'max_queue_size': 10,\n",
       " 'optimizer_name': 'Adam',\n",
       " 'sample_weight': None,\n",
       " 'shuffle': True,\n",
       " 'steps_per_epoch': None,\n",
       " 'use_multiprocessing': False,\n",
       " 'valdiation_batch_size': None,\n",
       " 'validation_freq': 1,\n",
       " 'validation_steps': None,\n",
       " 'workers': 2,\n",
       " 'input_train': array([[[0, 0, 0, ..., 0, 0, 0],\n",
       "         [0, 0, 0, ..., 0, 0, 0],\n",
       "         [0, 0, 0, ..., 0, 0, 0],\n",
       "         ...,\n",
       "         [0, 0, 0, ..., 0, 0, 0],\n",
       "         [0, 0, 0, ..., 0, 0, 0],\n",
       "         [0, 0, 0, ..., 0, 0, 0]],\n",
       " \n",
       "        [[0, 0, 0, ..., 0, 0, 0],\n",
       "         [0, 0, 0, ..., 0, 0, 0],\n",
       "         [0, 0, 0, ..., 0, 0, 0],\n",
       "         ...,\n",
       "         [0, 0, 0, ..., 0, 0, 0],\n",
       "         [0, 0, 0, ..., 0, 0, 0],\n",
       "         [0, 0, 0, ..., 0, 0, 0]],\n",
       " \n",
       "        [[0, 0, 0, ..., 0, 0, 0],\n",
       "         [0, 0, 0, ..., 0, 0, 0],\n",
       "         [0, 0, 0, ..., 0, 0, 0],\n",
       "         ...,\n",
       "         [0, 0, 0, ..., 0, 0, 0],\n",
       "         [0, 0, 0, ..., 0, 0, 0],\n",
       "         [0, 0, 0, ..., 0, 0, 0]],\n",
       " \n",
       "        ...,\n",
       " \n",
       "        [[0, 0, 0, ..., 0, 0, 0],\n",
       "         [0, 0, 0, ..., 0, 0, 0],\n",
       "         [0, 0, 0, ..., 0, 0, 0],\n",
       "         ...,\n",
       "         [0, 0, 0, ..., 0, 0, 0],\n",
       "         [0, 0, 0, ..., 0, 0, 0],\n",
       "         [0, 0, 0, ..., 0, 0, 0]],\n",
       " \n",
       "        [[0, 0, 0, ..., 0, 0, 0],\n",
       "         [0, 0, 0, ..., 0, 0, 0],\n",
       "         [0, 0, 0, ..., 0, 0, 0],\n",
       "         ...,\n",
       "         [0, 0, 0, ..., 0, 0, 0],\n",
       "         [0, 0, 0, ..., 0, 0, 0],\n",
       "         [0, 0, 0, ..., 0, 0, 0]],\n",
       " \n",
       "        [[0, 0, 0, ..., 0, 0, 0],\n",
       "         [0, 0, 0, ..., 0, 0, 0],\n",
       "         [0, 0, 0, ..., 0, 0, 0],\n",
       "         ...,\n",
       "         [0, 0, 0, ..., 0, 0, 0],\n",
       "         [0, 0, 0, ..., 0, 0, 0],\n",
       "         [0, 0, 0, ..., 0, 0, 0]]], dtype=uint8),\n",
       " 'target_train': array([5, 0, 4, ..., 5, 6, 8], dtype=uint8),\n",
       " 'input_test': array([[[0, 0, 0, ..., 0, 0, 0],\n",
       "         [0, 0, 0, ..., 0, 0, 0],\n",
       "         [0, 0, 0, ..., 0, 0, 0],\n",
       "         ...,\n",
       "         [0, 0, 0, ..., 0, 0, 0],\n",
       "         [0, 0, 0, ..., 0, 0, 0],\n",
       "         [0, 0, 0, ..., 0, 0, 0]],\n",
       " \n",
       "        [[0, 0, 0, ..., 0, 0, 0],\n",
       "         [0, 0, 0, ..., 0, 0, 0],\n",
       "         [0, 0, 0, ..., 0, 0, 0],\n",
       "         ...,\n",
       "         [0, 0, 0, ..., 0, 0, 0],\n",
       "         [0, 0, 0, ..., 0, 0, 0],\n",
       "         [0, 0, 0, ..., 0, 0, 0]],\n",
       " \n",
       "        [[0, 0, 0, ..., 0, 0, 0],\n",
       "         [0, 0, 0, ..., 0, 0, 0],\n",
       "         [0, 0, 0, ..., 0, 0, 0],\n",
       "         ...,\n",
       "         [0, 0, 0, ..., 0, 0, 0],\n",
       "         [0, 0, 0, ..., 0, 0, 0],\n",
       "         [0, 0, 0, ..., 0, 0, 0]],\n",
       " \n",
       "        ...,\n",
       " \n",
       "        [[0, 0, 0, ..., 0, 0, 0],\n",
       "         [0, 0, 0, ..., 0, 0, 0],\n",
       "         [0, 0, 0, ..., 0, 0, 0],\n",
       "         ...,\n",
       "         [0, 0, 0, ..., 0, 0, 0],\n",
       "         [0, 0, 0, ..., 0, 0, 0],\n",
       "         [0, 0, 0, ..., 0, 0, 0]],\n",
       " \n",
       "        [[0, 0, 0, ..., 0, 0, 0],\n",
       "         [0, 0, 0, ..., 0, 0, 0],\n",
       "         [0, 0, 0, ..., 0, 0, 0],\n",
       "         ...,\n",
       "         [0, 0, 0, ..., 0, 0, 0],\n",
       "         [0, 0, 0, ..., 0, 0, 0],\n",
       "         [0, 0, 0, ..., 0, 0, 0]],\n",
       " \n",
       "        [[0, 0, 0, ..., 0, 0, 0],\n",
       "         [0, 0, 0, ..., 0, 0, 0],\n",
       "         [0, 0, 0, ..., 0, 0, 0],\n",
       "         ...,\n",
       "         [0, 0, 0, ..., 0, 0, 0],\n",
       "         [0, 0, 0, ..., 0, 0, 0],\n",
       "         [0, 0, 0, ..., 0, 0, 0]]], dtype=uint8),\n",
       " 'target_test': array([7, 2, 1, ..., 4, 5, 6], dtype=uint8)}"
      ]
     },
     "execution_count": 31,
     "metadata": {},
     "output_type": "execute_result"
    }
   ],
   "source": [
    "wandb.config"
   ]
  },
  {
   "cell_type": "markdown",
   "metadata": {},
   "source": [
    "(array([5, 0, 4, ..., 5, 6, 8], dtype=uint8),\n",
    " array([7, 2, 1, ..., 4, 5, 6], dtype=uint8))"
   ]
  },
  {
   "cell_type": "code",
   "execution_count": 32,
   "metadata": {},
   "outputs": [],
   "source": [
    "#Reshape data \n",
    "input_train = input_train.reshape(input_train.shape[0], img_width, img_height, 1)\n",
    "input_test = input_test.reshape(input_test.shape[0], img_width, img_height, 1)\n",
    "input_shape = (img_width, img_height, 1) \n",
    "\n",
    "# Parse numbers as floats\n",
    "input_train = input_train.astype('float32')\n",
    "input_test = input_test.astype('float32')\n",
    "\n",
    "wandb.config.update({'input_train_reshape':input_train, 'target_train_reshape':target_train, 'input_test_reshape':input_test, 'target_test_reshape':target_test})\n",
    "\n",
    "# Convert into [0, 1] range.\n",
    "input_train = input_train / 255\n",
    "input_test = input_test / 255\n",
    "\n",
    "# Convert target vectors to categorical targets\n",
    "target_train = tensorflow.keras.utils.to_categorical(target_train, no_classes)\n",
    "target_test = tensorflow.keras.utils.to_categorical(target_test, no_classes)\n",
    "\n",
    "wandb.config.update({'input_train_normalized':input_train, 'target_train_categorical':target_train, 'input_test_normalized':input_test, 'target_test_categorical':target_test})"
   ]
  },
  {
   "cell_type": "code",
   "execution_count": 33,
   "metadata": {},
   "outputs": [],
   "source": [
    "# Create the model\n",
    "# put seed to all layers but MaxPooling and Flatten\n",
    "model = Sequential()\n",
    "model.add(Conv2D(32, kernel_size=(convKernelSize, convKernelSize), activation=activation, input_shape=input_shape, kernel_initializer=tf.keras.initializers.glorot_normal(seed=seed_value)))\n",
    "model.add(MaxPooling2D(pool_size=(2, 2)))\n",
    "model.add(Dropout(dropout, seed=seed_value))\n",
    "model.add(Conv2D(64, kernel_size=(convKernelSize, convKernelSize), activation=activation, kernel_initializer=tf.keras.initializers.glorot_normal(seed=seed_value)))\n",
    "model.add(MaxPooling2D(pool_size=(2, 2)))\n",
    "model.add(Dropout(dropout, seed=seed_value))\n",
    "model.add(Flatten())\n",
    "model.add(Dense(256, activation=activation, kernel_initializer=tf.keras.initializers.glorot_normal(seed=seed_value)))\n",
    "model.add(Dense(no_classes, activation='softmax', kernel_initializer=tf.keras.initializers.glorot_normal(seed=seed_value)))"
   ]
  },
  {
   "cell_type": "code",
   "execution_count": 34,
   "metadata": {},
   "outputs": [
    {
     "data": {
      "text/plain": [
       "array([[[[-0.15831769, -0.04490802, -0.06178062,  0.00811734,\n",
       "          -0.02479651,  0.0084381 , -0.07956775,  0.06733285,\n",
       "           0.15519604, -0.01092447,  0.03560017,  0.04341984,\n",
       "          -0.05477583, -0.00358999, -0.05533827,  0.0323185 ,\n",
       "           0.08563322,  0.02418045, -0.10292246, -0.12518083,\n",
       "           0.09223624, -0.03020439,  0.12570627,  0.0975105 ,\n",
       "          -0.11563888,  0.10041784,  0.10081172,  0.0287824 ,\n",
       "           0.00732475,  0.05259866, -0.04275294,  0.06155232]],\n",
       "\n",
       "        [[ 0.0789836 , -0.12635088, -0.01206782, -0.12652083,\n",
       "          -0.02337128, -0.01320411, -0.11903066,  0.03582355,\n",
       "           0.08965569,  0.0286646 , -0.03971971, -0.03905942,\n",
       "          -0.17780222, -0.04269768,  0.13343556,  0.02158995,\n",
       "          -0.05882326,  0.05944131, -0.02419369, -0.12406069,\n",
       "           0.01600565,  0.07905839,  0.13416708,  0.06617373,\n",
       "          -0.10046838, -0.05296212,  0.10336909, -0.05892661,\n",
       "          -0.00624058, -0.13513325,  0.08659808, -0.1850473 ]],\n",
       "\n",
       "        [[-0.01922399,  0.09981716,  0.10986669, -0.03049391,\n",
       "          -0.1122455 ,  0.17760086,  0.03877183,  0.0588379 ,\n",
       "          -0.10601924, -0.07709087, -0.00193345, -0.07164254,\n",
       "           0.01739125, -0.03460487, -0.01859784, -0.09355155,\n",
       "           0.04213847,  0.05475171,  0.02363164,  0.03623988,\n",
       "          -0.04084199,  0.01689573,  0.06163738, -0.0202138 ,\n",
       "          -0.04730003,  0.12504748,  0.04260248,  0.0500504 ,\n",
       "           0.00047849, -0.1305858 ,  0.0416182 , -0.05404917]]],\n",
       "\n",
       "\n",
       "       [[[-0.06469767, -0.01346164, -0.10084607,  0.11983716,\n",
       "           0.01477636, -0.05492971, -0.07333751,  0.07471923,\n",
       "          -0.12646005, -0.08652153,  0.00023343, -0.01074234,\n",
       "          -0.06588703,  0.0252078 ,  0.0438525 ,  0.00926748,\n",
       "           0.01275   , -0.11879981, -0.04720767, -0.0826251 ,\n",
       "           0.09444606, -0.09290045,  0.07047975, -0.0226284 ,\n",
       "          -0.032637  ,  0.07148539,  0.09009609, -0.07300913,\n",
       "           0.07626223,  0.03024396,  0.01995547, -0.09584589]],\n",
       "\n",
       "        [[ 0.02612587, -0.12743409, -0.00485975,  0.01426246,\n",
       "          -0.0254171 , -0.02574927, -0.10950759,  0.10648482,\n",
       "          -0.06069987, -0.08594958, -0.0643603 , -0.02863314,\n",
       "          -0.05021323,  0.03451591,  0.00655256,  0.01147659,\n",
       "          -0.14876227, -0.01462792,  0.05213924, -0.07821578,\n",
       "          -0.05490955,  0.06716448, -0.02832511, -0.02792066,\n",
       "          -0.18566631, -0.00626677,  0.13320115, -0.00967495,\n",
       "          -0.04683596,  0.04149203,  0.05556938,  0.07361947]],\n",
       "\n",
       "        [[-0.01752136, -0.00378232,  0.03946403,  0.03782779,\n",
       "           0.18176746,  0.12177835,  0.01627476,  0.12147722,\n",
       "           0.06777829,  0.0645121 , -0.10111642,  0.07036003,\n",
       "           0.09429186, -0.109078  , -0.01857456, -0.0429116 ,\n",
       "           0.01418558, -0.04105593, -0.12320429, -0.05043184,\n",
       "           0.04812824,  0.12408195, -0.01317788,  0.0184416 ,\n",
       "          -0.02625065,  0.03839206,  0.06016069,  0.03358948,\n",
       "           0.18139412, -0.02927453,  0.11806723, -0.02508466]]],\n",
       "\n",
       "\n",
       "       [[[ 0.05313561, -0.01389734,  0.09372889,  0.02022179,\n",
       "           0.0109985 , -0.02083119,  0.12535319,  0.04147284,\n",
       "           0.05255462,  0.02581622, -0.03832698,  0.00251474,\n",
       "          -0.01786059, -0.13696183,  0.09705462,  0.0347463 ,\n",
       "           0.08514558, -0.11639374,  0.06036068,  0.06024072,\n",
       "           0.05211386,  0.09509565,  0.0115554 ,  0.0803564 ,\n",
       "           0.13914175, -0.11329458, -0.00371739, -0.07796407,\n",
       "           0.07304531, -0.08534696, -0.10222208,  0.05870023]],\n",
       "\n",
       "        [[ 0.08819027,  0.00642521, -0.02675724, -0.0288351 ,\n",
       "          -0.16058753,  0.08889034, -0.0458497 , -0.06218437,\n",
       "          -0.05842822,  0.0077006 , -0.1399441 ,  0.04232196,\n",
       "          -0.11532194, -0.1273234 ,  0.12150855,  0.08465546,\n",
       "           0.05709344, -0.04077644,  0.08144055,  0.04987326,\n",
       "          -0.02679296,  0.03151028, -0.04812696, -0.17980309,\n",
       "           0.00152625,  0.04674595, -0.10283982, -0.03506339,\n",
       "           0.01263313,  0.09938132, -0.11059491,  0.07891567]],\n",
       "\n",
       "        [[ 0.08691372,  0.07433909, -0.05551   , -0.07189693,\n",
       "          -0.06385968, -0.00963716, -0.17122649,  0.15545323,\n",
       "          -0.04264051, -0.00368735, -0.06450948,  0.06785723,\n",
       "          -0.01637326,  0.07000586,  0.06044508, -0.08208561,\n",
       "           0.12733328, -0.08407192,  0.06384789,  0.00316278,\n",
       "           0.03460339, -0.05217649, -0.11088067, -0.04435296,\n",
       "           0.1319496 ,  0.18177527, -0.0258056 ,  0.11043206,\n",
       "           0.04236684,  0.10288039,  0.0587918 , -0.071544  ]]]],\n",
       "      dtype=float32)"
      ]
     },
     "execution_count": 34,
     "metadata": {},
     "output_type": "execute_result"
    }
   ],
   "source": [
    "weights, biases = model.layers[0].get_weights()\n",
    "# weights are the same with initialization\n",
    "weights"
   ]
  },
  {
   "cell_type": "code",
   "execution_count": 35,
   "metadata": {},
   "outputs": [],
   "source": [
    "# Compile the model and use the Adagrad\n",
    "model.compile(loss=tensorflow.keras.losses.categorical_crossentropy,\n",
    "              optimizer=tensorflow.keras.optimizers.Adam(), #Adam\n",
    "              metrics=['accuracy'])"
   ]
  },
  {
   "cell_type": "code",
   "execution_count": 36,
   "metadata": {},
   "outputs": [
    {
     "name": "stdout",
     "output_type": "stream",
     "text": [
      "192/192 [==============================] - 46s 234ms/step - loss: 0.7419 - accuracy: 0.7687 - val_loss: 0.0946 - val_accuracy: 0.9728\n"
     ]
    },
    {
     "name": "stderr",
     "output_type": "stream",
     "text": [
      "\u001b[34m\u001b[1mwandb\u001b[0m: \u001b[33mWARNING\u001b[0m No validation_data set, pass a generator to the callback.\n"
     ]
    }
   ],
   "source": [
    "# Fit data to model\n",
    "from wandb.keras import WandbCallback\n",
    "\n",
    "# Add labels\n",
    "labels =[\"0\",\"1\",\"2\",\"3\",\"4\",\"5\",\"6\",\"7\",\"8\",\"9\"]\n",
    "\n",
    "\"\"\"monitor='val_loss',\n",
    "              verbose=0,\n",
    "              mode='auto',\n",
    "              save_weights_only=False,\n",
    "              log_weights=False,\n",
    "              log_gradients=False,\n",
    "              save_model=True,\n",
    "              training_data=None,\n",
    "              validation_data=None,\n",
    "              labels=[],\n",
    "              data_type=None,\n",
    "              predictions=36,\n",
    "              generator=None,\n",
    "              input_type=None,\n",
    "              output_type=None,\n",
    "              log_evaluation=False,\n",
    "              validation_steps=None,\n",
    "              class_colors=None,\n",
    "              log_batch_frequency=None,\n",
    "              log_best_prefix='best_'\"\"\"\n",
    "\n",
    "history = model.fit(input_train, target_train,\n",
    "              batch_size=batch_size,\n",
    "              epochs=no_epochs,\n",
    "              verbose=verbosity,\n",
    "              validation_split=validation_split,\n",
    "                   callbacks=[WandbCallback(data_type=\"image\", labels=labels)])"
   ]
  },
  {
   "cell_type": "code",
   "execution_count": 37,
   "metadata": {},
   "outputs": [
    {
     "name": "stdout",
     "output_type": "stream",
     "text": [
      "TestLoss: 0.08609030395746231\n",
      "TestAccuracy: 0.972599983215332\n",
      "ValLoss:  0.09458783268928528\n",
      "ValAccuracy:  0.9727500081062317\n"
     ]
    }
   ],
   "source": [
    "# Generate generalization metrics\n",
    "#sys.stdout = open('/dev/stdout', 'w')\n",
    "score = model.evaluate(input_test, target_test, verbose=0)\n",
    "print(f'TestLoss: {score[0]}')\n",
    "print(f'TestAccuracy: {score[1]}')\n",
    "print('ValLoss: ',history.history['val_loss'][-1])\n",
    "print('ValAccuracy: ',history.history['val_accuracy'][-1])\n",
    "#print(f'Test loss: {score[0]} / Test accuracy: {score[1]}')"
   ]
  },
  {
   "cell_type": "code",
   "execution_count": 38,
   "metadata": {},
   "outputs": [],
   "source": [
    "wandb.config.update({'model_summary':model.summary})"
   ]
  },
  {
   "cell_type": "markdown",
   "metadata": {},
   "source": [
    "## Run#1: docker MacOS\n",
    "\n",
    "TestLoss: 0.08609030395746231\n",
    "\n",
    "TestAccuracy: 0.972599983215332\n",
    "\n",
    "ValLoss:  0.09458783268928528\n",
    "\n",
    "ValAccuracy:  0.9727500081062317\n",
    "\n",
    "## Run #2: docker MacOS\n",
    "\n",
    "TestLoss: 0.08609030395746231\n",
    "\n",
    "TestAccuracy: 0.972599983215332\n",
    "\n",
    "ValLoss:  0.09458783268928528\n",
    "\n",
    "ValAccuracy:  0.9727500081062317"
   ]
  },
  {
   "cell_type": "code",
   "execution_count": 39,
   "metadata": {},
   "outputs": [],
   "source": [
    "weights, biases = model.layers[0].get_weights()"
   ]
  },
  {
   "cell_type": "code",
   "execution_count": 40,
   "metadata": {},
   "outputs": [
    {
     "data": {
      "text/plain": [
       "array([[[[-1.37746811e-01, -8.21383223e-02, -9.64649916e-02,\n",
       "           3.90559807e-02, -3.31303850e-02,  1.91143379e-02,\n",
       "          -9.37926024e-02,  7.41249695e-02,  2.07462221e-01,\n",
       "          -8.63095671e-02,  1.40347287e-01,  3.25050056e-02,\n",
       "          -1.15937501e-01,  4.88959737e-02, -4.16884534e-02,\n",
       "           8.84919539e-02,  8.10976699e-02,  1.09264314e-01,\n",
       "          -1.03267156e-01, -1.32670045e-01,  1.12038560e-01,\n",
       "          -2.84015946e-02,  1.60024866e-01,  1.33542046e-01,\n",
       "          -1.48786575e-01,  9.70320180e-02,  1.28268778e-01,\n",
       "          -3.21602374e-02,  1.58859249e-02,  2.14563590e-02,\n",
       "           2.99491314e-03,  3.92571688e-02]],\n",
       "\n",
       "        [[ 1.16007753e-01, -9.89379957e-02,  3.51074687e-03,\n",
       "          -1.10032432e-01, -1.68555174e-02,  1.31477676e-02,\n",
       "          -1.81516320e-01,  5.01150973e-02,  1.49884060e-01,\n",
       "          -3.32989097e-02,  4.31759655e-02, -4.79170047e-02,\n",
       "          -1.37366876e-01, -3.93461548e-02,  1.48708314e-01,\n",
       "           4.85640317e-02, -6.90265819e-02,  1.41823575e-01,\n",
       "          -2.53460221e-02, -1.68678284e-01,  3.69846374e-02,\n",
       "           1.00968294e-01,  1.74955174e-01,  1.10773332e-01,\n",
       "          -1.15943134e-01, -3.34722102e-02,  1.36672348e-01,\n",
       "          -5.17714545e-02,  5.67656709e-03, -2.02957556e-01,\n",
       "           1.25736728e-01, -2.52724886e-01]],\n",
       "\n",
       "        [[ 1.18440324e-02,  1.60393834e-01,  1.41961217e-01,\n",
       "          -1.69691052e-02, -1.18587241e-01,  2.09548458e-01,\n",
       "           3.41555662e-02,  6.73908517e-02, -4.99010198e-02,\n",
       "          -1.34919524e-01, -4.82811183e-02, -7.78484792e-02,\n",
       "           9.06309038e-02, -1.24841414e-01, -1.46070970e-02,\n",
       "          -1.54078662e-01,  1.68790463e-02,  1.41505226e-01,\n",
       "           4.60536964e-03, -6.09220192e-02, -4.53240611e-02,\n",
       "           4.26690429e-02,  1.03492014e-01,  3.04570440e-02,\n",
       "          -7.59676844e-02,  1.39336526e-01,  7.22336322e-02,\n",
       "           9.85087603e-02,  1.83368977e-02, -2.22591102e-01,\n",
       "           6.99126199e-02, -1.31145805e-01]]],\n",
       "\n",
       "\n",
       "       [[[-4.18957472e-02, -5.30883335e-02, -8.21986347e-02,\n",
       "           1.59098491e-01,  5.56394272e-02, -4.69778851e-02,\n",
       "           1.09553020e-02,  8.08582157e-02, -8.41992721e-02,\n",
       "          -7.51284286e-02,  1.09573446e-01,  7.73487426e-03,\n",
       "          -1.63467243e-01,  4.39221896e-02,  6.50060922e-02,\n",
       "           7.34941363e-02,  2.93578282e-02, -7.20379353e-02,\n",
       "          -1.43392906e-02, -9.20803472e-03,  1.14366390e-01,\n",
       "          -7.50313103e-02,  1.02926485e-01,  1.96405919e-03,\n",
       "           9.76879237e-05,  8.06059167e-02,  1.17370479e-01,\n",
       "          -1.39183223e-01,  9.01644826e-02,  7.24430829e-02,\n",
       "           4.68702279e-02, -3.64511572e-02]],\n",
       "\n",
       "        [[ 6.87892288e-02, -7.46544600e-02,  2.83670165e-02,\n",
       "           5.39754443e-02,  4.73849066e-02,  1.97598687e-03,\n",
       "          -1.61869228e-01,  1.23685032e-01, -1.22411717e-02,\n",
       "          -6.63070381e-02,  1.36400331e-02,  8.54733400e-03,\n",
       "          -1.73461512e-02, -8.55687857e-02,  3.64820510e-02,\n",
       "           4.35422808e-02, -1.30700752e-01,  3.94220315e-02,\n",
       "           7.11437985e-02, -3.60351279e-02, -2.16026045e-02,\n",
       "           1.03527203e-01,  1.34953205e-02,  9.26521141e-03,\n",
       "          -1.41723081e-01,  1.82299092e-02,  1.64849102e-01,\n",
       "           7.93244876e-03, -2.01618001e-02,  8.04913417e-02,\n",
       "           9.01123062e-02,  1.11262098e-01]],\n",
       "\n",
       "        [[ 2.31463853e-02,  6.88150451e-02,  7.39408433e-02,\n",
       "           8.65661874e-02,  2.40921527e-01,  1.58757091e-01,\n",
       "          -5.45175523e-02,  1.38440341e-01,  1.03621013e-01,\n",
       "           7.92697817e-02, -1.42645761e-01,  1.12562433e-01,\n",
       "           1.65059000e-01, -1.08024269e-01,  5.51938498e-03,\n",
       "          -1.31944239e-01,  1.92875154e-02,  1.41878910e-02,\n",
       "          -1.19333304e-01, -5.47633357e-02,  7.53334612e-02,\n",
       "           1.56991541e-01,  3.63823287e-02,  5.35991564e-02,\n",
       "           2.68038246e-03,  6.21028058e-02,  8.42028484e-02,\n",
       "           9.09741521e-02,  2.11058170e-01, -7.70223793e-03,\n",
       "           1.52845815e-01,  1.07850032e-02]]],\n",
       "\n",
       "\n",
       "       [[[ 8.35927948e-02, -5.65002710e-02,  1.03878960e-01,\n",
       "           4.19921391e-02,  3.81136127e-02, -2.85916813e-02,\n",
       "           2.28128016e-01,  2.92922985e-02,  4.10275422e-02,\n",
       "           9.71833915e-02,  3.12961750e-02,  3.32389362e-02,\n",
       "          -7.53321499e-02, -1.66262507e-01,  1.21286355e-01,\n",
       "           8.97144601e-02,  1.15710936e-01, -2.00403273e-01,\n",
       "           1.09499499e-01,  1.43656895e-01,  6.67854622e-02,\n",
       "           1.01992399e-01,  2.37864209e-03,  6.62231371e-02,\n",
       "           2.05582336e-01, -1.03859425e-01, -5.82094211e-03,\n",
       "          -1.35346666e-01,  8.53115544e-02, -3.31985541e-02,\n",
       "          -1.64494887e-01,  1.22967616e-01]],\n",
       "\n",
       "        [[ 1.33053482e-01,  3.67993638e-02, -6.06211694e-03,\n",
       "          -1.01302741e-02, -1.21761642e-01,  9.95551646e-02,\n",
       "           5.00709340e-02, -5.77400886e-02, -6.63010776e-02,\n",
       "           7.90703595e-02, -1.49339810e-01,  8.45727846e-02,\n",
       "          -6.09260760e-02, -1.30988941e-01,  1.55965954e-01,\n",
       "           1.39461860e-01,  9.21339318e-02, -1.40266687e-01,\n",
       "           1.26994193e-01,  1.26353085e-01,  7.66742695e-03,\n",
       "           4.71409112e-02, -3.71018387e-02, -2.09095031e-01,\n",
       "           7.18034133e-02,  7.03910142e-02, -1.07812501e-01,\n",
       "          -2.45295349e-03,  3.87450419e-02,  1.50516123e-01,\n",
       "          -1.44916505e-01,  1.36064351e-01]],\n",
       "\n",
       "        [[ 1.30057514e-01,  1.32198900e-01, -3.37062851e-02,\n",
       "          -5.47732376e-02, -5.10103591e-02,  1.36436671e-02,\n",
       "          -1.00522310e-01,  1.67967826e-01, -6.22694492e-02,\n",
       "           4.60400283e-02, -1.58544943e-01,  1.16412401e-01,\n",
       "           6.28621802e-02,  1.56034127e-01,  9.38611254e-02,\n",
       "          -8.80877599e-02,  1.51088014e-01, -1.52193278e-01,\n",
       "           9.82932597e-02,  6.60052150e-02,  6.78952262e-02,\n",
       "          -4.91805114e-02, -9.85778868e-02, -8.78441036e-02,\n",
       "           1.86541408e-01,  2.08468974e-01, -5.45507669e-02,\n",
       "           1.64489746e-01,  6.79249316e-02,  1.50091857e-01,\n",
       "           6.49710074e-02, -9.05346498e-03]]]], dtype=float32)"
      ]
     },
     "execution_count": 40,
     "metadata": {},
     "output_type": "execute_result"
    }
   ],
   "source": [
    "weights"
   ]
  },
  {
   "cell_type": "code",
   "execution_count": 41,
   "metadata": {},
   "outputs": [
    {
     "name": "stdout",
     "output_type": "stream",
     "text": [
      "MPLBACKEND=module://ipykernel.pylab.backend_inline\r\n",
      "PYTHONHASHSEED=0\r\n",
      "HOSTNAME=b45d99256a95\r\n",
      "SHLVL=1\r\n",
      "HOME=/home/test_user\r\n",
      "OLDPWD=/home/test_user\r\n",
      "PAGER=cat\r\n",
      "TF2_BEHAVIOR=1\r\n",
      "_=/opt/conda/bin/python3\r\n",
      "TERM=xterm-color\r\n",
      "PATH=/opt/conda/bin:/usr/local/sbin:/usr/local/bin:/usr/sbin:/usr/bin:/sbin:/bin\r\n",
      "LANG=C.UTF-8\r\n",
      "LS_COLORS=rs=0:di=01;34:ln=01;36:mh=00:pi=40;33:so=01;35:do=01;35:bd=40;33;01:cd=40;33;01:or=40;31;01:mi=00:su=37;41:sg=30;43:ca=30;41:tw=30;42:ow=34;42:st=37;44:ex=01;32:*.tar=01;31:*.tgz=01;31:*.arc=01;31:*.arj=01;31:*.taz=01;31:*.lha=01;31:*.lz4=01;31:*.lzh=01;31:*.lzma=01;31:*.tlz=01;31:*.txz=01;31:*.tzo=01;31:*.t7z=01;31:*.zip=01;31:*.z=01;31:*.dz=01;31:*.gz=01;31:*.lrz=01;31:*.lz=01;31:*.lzo=01;31:*.xz=01;31:*.zst=01;31:*.tzst=01;31:*.bz2=01;31:*.bz=01;31:*.tbz=01;31:*.tbz2=01;31:*.tz=01;31:*.deb=01;31:*.rpm=01;31:*.jar=01;31:*.war=01;31:*.ear=01;31:*.sar=01;31:*.rar=01;31:*.alz=01;31:*.ace=01;31:*.zoo=01;31:*.cpio=01;31:*.7z=01;31:*.rz=01;31:*.cab=01;31:*.wim=01;31:*.swm=01;31:*.dwm=01;31:*.esd=01;31:*.jpg=01;35:*.jpeg=01;35:*.mjpg=01;35:*.mjpeg=01;35:*.gif=01;35:*.bmp=01;35:*.pbm=01;35:*.pgm=01;35:*.ppm=01;35:*.tga=01;35:*.xbm=01;35:*.xpm=01;35:*.tif=01;35:*.tiff=01;35:*.png=01;35:*.svg=01;35:*.svgz=01;35:*.mng=01;35:*.pcx=01;35:*.mov=01;35:*.mpg=01;35:*.mpeg=01;35:*.m2v=01;35:*.mkv=01;35:*.webm=01;35:*.ogm=01;35:*.mp4=01;35:*.m4v=01;35:*.mp4v=01;35:*.vob=01;35:*.qt=01;35:*.nuv=01;35:*.wmv=01;35:*.asf=01;35:*.rm=01;35:*.rmvb=01;35:*.flc=01;35:*.avi=01;35:*.fli=01;35:*.flv=01;35:*.gl=01;35:*.dl=01;35:*.xcf=01;35:*.xwd=01;35:*.yuv=01;35:*.cgm=01;35:*.emf=01;35:*.ogv=01;35:*.ogx=01;35:*.aac=00;36:*.au=00;36:*.flac=00;36:*.m4a=00;36:*.mid=00;36:*.midi=00;36:*.mka=00;36:*.mp3=00;36:*.mpc=00;36:*.ogg=00;36:*.ra=00;36:*.wav=00;36:*.oga=00;36:*.opus=00;36:*.spx=00;36:*.xspf=00;36:\r\n",
      "GIT_PAGER=cat\r\n",
      "PWD=/home/test_user/CNN\r\n",
      "LC_ALL=C.UTF-8\r\n",
      "CLICOLOR=1\r\n",
      "JPY_PARENT_PID=158\r\n"
     ]
    }
   ],
   "source": [
    "!printenv"
   ]
  },
  {
   "cell_type": "code",
   "execution_count": null,
   "metadata": {},
   "outputs": [],
   "source": []
  }
 ],
 "metadata": {
  "kernelspec": {
   "display_name": "Python 3",
   "language": "python",
   "name": "python3"
  },
  "language_info": {
   "codemirror_mode": {
    "name": "ipython",
    "version": 3
   },
   "file_extension": ".py",
   "mimetype": "text/x-python",
   "name": "python",
   "nbconvert_exporter": "python",
   "pygments_lexer": "ipython3",
   "version": "3.7.9"
  }
 },
 "nbformat": 4,
 "nbformat_minor": 4
}
