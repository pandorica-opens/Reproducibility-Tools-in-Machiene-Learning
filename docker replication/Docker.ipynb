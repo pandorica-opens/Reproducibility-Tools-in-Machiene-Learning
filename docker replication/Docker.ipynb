{
 "cells": [
  {
   "cell_type": "markdown",
   "metadata": {},
   "source": [
    "# Docker image instruction"
   ]
  },
  {
   "cell_type": "markdown",
   "metadata": {},
   "source": [
    "Here we use https://hub.docker.com/r/continuumio/conda-ci-linux-64-python3.7\n",
    "\n",
    "If not explicitly specified at host, it is executed at the container:\n",
    "```bash\n",
    "conda create --name guild-ai\n",
    "activate guild-ai\n",
    "```\n"
   ]
  },
  {
   "cell_type": "markdown",
   "metadata": {},
   "source": [
    "drop to requirements.txt from the folder (**can also do it with just uploading with jupyter later**):\n",
    "```bash\n",
    "mkdir requirements\n",
    "sudo apt install nano\n",
    "touch requirements.txt\n",
    "nano requirements.txt\n",
    "```\n",
    "\n",
    "```bash\n",
    "pip install -r requirements.txt\n",
    "```"
   ]
  },
  {
   "cell_type": "code",
   "execution_count": null,
   "metadata": {},
   "outputs": [],
   "source": [
    "ERROR: Could not find a version that satisfies the requirement nb-conda-kernels==2.3.1 (from -r requirements.txt (line 75)) (from versions: none)\n",
    "ERROR: No matching distribution found for nb-conda-kernels==2.3.1 (from -r requirements.txt (line 75))"
   ]
  },
  {
   "cell_type": "markdown",
   "metadata": {},
   "source": [
    "on **host**: \n",
    "```bash\n",
    "docker run -it -p 8888:8888 d40995f79507 (container id)\n",
    "```"
   ]
  },
  {
   "cell_type": "markdown",
   "metadata": {},
   "source": [
    "on **container**:\n",
    "```bash\n",
    "pip install jupyter notebook\n",
    "```"
   ]
  },
  {
   "cell_type": "markdown",
   "metadata": {},
   "source": [
    "To check that jupyter works on **container**:\n",
    "```bash\n",
    "python -m notebook\n",
    "```\n",
    "#### it automatically runs on 8888"
   ]
  },
  {
   "cell_type": "markdown",
   "metadata": {},
   "source": [
    "on **container**:: \n",
    "```bash\n",
    "python3 -m notebook --ip 0.0.0.0 --no-browser\n",
    "```\n",
    "- input token from jupiter in **container** to localhost:8888 on **host**"
   ]
  },
  {
   "cell_type": "markdown",
   "metadata": {},
   "source": [
    "install tensorflow and wandb in the jupyter notebook, as in CNN/Conv-MNIST-Docker.ipynb"
   ]
  },
  {
   "cell_type": "code",
   "execution_count": null,
   "metadata": {},
   "outputs": [],
   "source": []
  }
 ],
 "metadata": {
  "kernelspec": {
   "display_name": "Python 3",
   "language": "python",
   "name": "python3"
  },
  "language_info": {
   "codemirror_mode": {
    "name": "ipython",
    "version": 3
   },
   "file_extension": ".py",
   "mimetype": "text/x-python",
   "name": "python",
   "nbconvert_exporter": "python",
   "pygments_lexer": "ipython3",
   "version": "3.7.9"
  }
 },
 "nbformat": 4,
 "nbformat_minor": 4
}
