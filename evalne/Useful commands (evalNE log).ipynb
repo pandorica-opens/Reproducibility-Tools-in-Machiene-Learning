{
 "cells": [
  {
   "cell_type": "markdown",
   "metadata": {},
   "source": [
    "### Create new directory\n",
    "\n",
    "`mkdir evalne`\n",
    "\n",
    "\n",
    "### Create new file\n",
    "\n",
    "`touch README.md`\n",
    "\n",
    "\n",
    "### Open directory in Finder\n",
    "\n",
    "`open .`"
   ]
  },
  {
   "cell_type": "markdown",
   "metadata": {},
   "source": [
    "### Missing at the evalne:\n",
    "\n",
    "https://stackoverflow.com/questions/59474533/modulenotfounderror-no-module-named-numpy-testing-nosetester"
   ]
  },
  {
   "cell_type": "markdown",
   "metadata": {},
   "source": [
    "### If no channels are avaliable\n",
    "\n",
    "`conda config --append channels conda-forge`\n",
    "\n",
    "### Installing specific version: \n",
    "\n",
    "`conda install scikit-learn=0.19.2`"
   ]
  },
  {
   "cell_type": "markdown",
   "metadata": {},
   "source": [
    "### Check the version installed correctly or not: full list of the conda\n",
    "\n",
    "`conda list`"
   ]
  },
  {
   "cell_type": "markdown",
   "metadata": {},
   "source": [
    "## Note: Don't use pip command if you are using Anaconda or Miniconda\n",
    "\n",
    "I tried following commands:\n",
    "\n",
    "`!conda update conda \n",
    "!pip install -U scikit-learn`\n",
    "\n",
    "\n",
    "### It will install the required packages also will show in the conda list but when try to import that package it will not work."
   ]
  },
  {
   "cell_type": "markdown",
   "metadata": {},
   "source": [
    "### For example, you can check which version is getting executed. In order to check the packege version in python (and path to it):\n",
    "\n",
    "\n",
    "```python\n",
    "import statlib\n",
    "print statlib.__version__\n",
    "print statlib.__path__\n",
    "```"
   ]
  },
  {
   "cell_type": "markdown",
   "metadata": {},
   "source": [
    "### When having `requirements.txt` file and want to install all the packages from there:\n",
    "\n",
    "`conda install --file requirements.txt` to install the requirements from file\n",
    "\n",
    "`pip3 install -r requirements.txt` for pip3"
   ]
  },
  {
   "cell_type": "markdown",
   "metadata": {},
   "source": [
    "## Running  for evalne\n",
    "## `conda install --file requirements.txt`\n",
    "Collecting package metadata (repodata.json): done\n",
    "Solving environment: failed with initial frozen solve. Retrying with flexible solve.\n",
    "Solving environment: / \n",
    "## Found conflicts! Looking for incompatible packages."
   ]
  },
  {
   "cell_type": "markdown",
   "metadata": {},
   "source": [
    "```shell\n",
    "UnsatisfiableError: The following specifications were found\n",
    "to be incompatible with the existing python installation in your environment:\n",
    "\n",
    "Specifications:\n",
    "\n",
    "  - networkx[version='>=2.2'] -> python[version='2.7.*|3.4.*|3.5.*|3.6.*|>=3.5,<3.6.0a0|>=3.8,<3.9.0a0|>=3.9,<3.10.0a0']\n",
    "  - numpy==1.15.1 -> python[version='2.7.*|3.5.*|3.6.*']\n",
    "  - scikit-learn==0.19.0 -> python[version='2.7.*|3.5.*|3.6.*|>=2.7,<2.8.0a0|>=3.5,<3.6.0a0|>=3.6,<3.7.0a0']\n",
    "\n",
    "Your python: python=3.7\n",
    "\n",
    "If python is on the left-most side of the chain, that's the version you've asked for.\n",
    "When python appears to the right, that indicates that the thing on the left is somehow\n",
    "not available for the python version you are constrained to. Note that conda will not\n",
    "change your python version to a different minor version unless you explicitly specify\n",
    "that.\n",
    "\n",
    "The following specifications were found to be incompatible with each other:\n",
    "\n",
    "\n",
    "\n",
    "Package python-dateutil conflicts for:\n",
    "pandas -> python-dateutil[version='>=2.5.*|>=2.6.1|>=2.7.3']\n",
    "matplotlib -> python-dateutil\n",
    "Package setuptools conflicts for:\n",
    "pandas -> python[version='>=3.5,<3.6.0a0'] -> pip -> setuptools\n",
    "matplotlib -> setuptools\n",
    "python=3.7 -> pip -> setuptools\n",
    "numpy==1.15.1 -> python[version='>=3.7,<3.8.0a0'] -> pip -> setuptools\n",
    "scikit-learn==0.19.0 -> python[version='>=2.7,<2.8.0a0'] -> pip -> setuptools\n",
    "scipy -> python[version='>=2.7,<2.8.0a0'] -> pip -> setuptools\n",
    "tqdm -> python[version='>=3.5,<3.6.0a0'] -> pip -> setuptools\n",
    "networkx[version='>=2.2'] -> setuptools\n",
    "Package python_abi conflicts for:\n",
    "tqdm -> python[version='>=3.5,<3.6.0a0'] -> pip -> setuptools -> python_abi[version='3.6.*|3.7.*|3.8.*|3.9.*',build='*_cp39|*_cp36m|*_cp37m|*_cp38']\n",
    "scikit-learn==0.19.0 -> numpy[version='>=1.9.3,<2.0a0'] -> python_abi[version='3.6|3.6.*',build='*_cp36m|*_pypy36_pp73']\n",
    "pandas -> python[version='>=3.5,<3.6.0a0'] -> pip -> setuptools -> certifi -> python_abi=2.7[build=*_cp27m]\n",
    "tqdm -> python[version='>=3.5,<3.6.0a0'] -> pip -> setuptools -> certifi -> python_abi=2.7[build=*_cp27m]\n",
    "scipy -> python[version='>=2.7,<2.8.0a0'] -> pip -> setuptools -> certifi -> python_abi=2.7[build=*_cp27m]\n",
    "python=3.7 -> pip -> setuptools -> python_abi=3.7[build=*_cp37m]\n",
    "numpy==1.15.1 -> python[version='>=3.7,<3.8.0a0'] -> pip -> setuptools -> certifi -> python_abi=2.7[build=*_cp27m]\n",
    "scikit-learn==0.19.0 -> python[version='>=2.7,<2.8.0a0'] -> pip -> setuptools -> certifi -> python_abi=2.7[build=*_cp27m]\n",
    "tqdm -> python[version='>=3.5,<3.6.0a0'] -> python_abi==3.6[build=*_pypy36_pp73] \n",
    "```"
   ]
  },
  {
   "cell_type": "code",
   "execution_count": null,
   "metadata": {},
   "outputs": [],
   "source": []
  }
 ],
 "metadata": {
  "kernelspec": {
   "display_name": "Python 3",
   "language": "python",
   "name": "python3"
  },
  "language_info": {
   "codemirror_mode": {
    "name": "ipython",
    "version": 3
   },
   "file_extension": ".py",
   "mimetype": "text/x-python",
   "name": "python",
   "nbconvert_exporter": "python",
   "pygments_lexer": "ipython3",
   "version": "3.7.3"
  }
 },
 "nbformat": 4,
 "nbformat_minor": 2
}
